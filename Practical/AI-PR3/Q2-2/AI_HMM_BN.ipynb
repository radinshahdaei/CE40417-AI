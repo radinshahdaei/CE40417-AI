{
  "nbformat": 4,
  "nbformat_minor": 0,
  "metadata": {
    "colab": {
      "provenance": []
    },
    "kernelspec": {
      "name": "python3",
      "display_name": "Python 3"
    },
    "language_info": {
      "name": "python"
    }
  },
  "cells": [
    {
      "cell_type": "markdown",
      "source": [
        "<img src='http://www-scf.usc.edu/~ghasemig/images/sharif.png' alt=\"SUT logo\" width=500 height=300 align=center class=\"saturate\" >\n",
        "\n",
        "<br>\n",
        "<font>\n",
        "<div dir=ltr align=center>\n",
        "<font color=0F5298 size=7>\n",
        "    Artificial Intelligence <br>\n",
        "<font color=2565AE size=5>\n",
        "    Computer Engineering Department <br>\n",
        "    Spring 2024<br>\n",
        "<font color=3C99D size=5>\n",
        "    Practical Assignment 3 - Heart Disease Prediction using Hidden Markov Models  <br>\n",
        "<font color=696880 size=4>\n",
        "Omid Daliran\n"
      ],
      "metadata": {
        "id": "lGYYFKeJ1GMj"
      }
    },
    {
      "cell_type": "markdown",
      "source": [
        "# Personal Data"
      ],
      "metadata": {
        "id": "mKqvyyp3TIzP"
      }
    },
    {
      "cell_type": "code",
      "source": [
        "# Set your student number and name\n",
        "student_number = '401106096'\n",
        "Name = 'Radin'\n",
        "Last_Name = 'Shahdaei'"
      ],
      "metadata": {
        "id": "0geUs2cxytvu"
      },
      "execution_count": 1,
      "outputs": []
    },
    {
      "cell_type": "markdown",
      "source": [
        "# Libraries"
      ],
      "metadata": {
        "id": "7t1ZoXu-0BHq"
      }
    },
    {
      "cell_type": "code",
      "source": [
        "import csv\n",
        "import numpy as np\n",
        "import pandas as pd"
      ],
      "metadata": {
        "id": "ROZMme5FrlVL"
      },
      "execution_count": 2,
      "outputs": []
    },
    {
      "cell_type": "markdown",
      "source": [
        "# Q2: Heart Disease Prediction using Hidden Markov  (100 Points)"
      ],
      "metadata": {
        "id": "22cAp2xx0asS"
      }
    },
    {
      "cell_type": "markdown",
      "source": [
        "# Introduction\n",
        "\n",
        "\n",
        "In this notebook, we explore the application of Hidden Markov Models (HMM) in predicting heart disease risk based on DNA sequences. Heart disease is a prevalent and life-threatening condition, and early detection is crucial for effective management. By leveraging HMM, we aim to identify regions within DNA sequences associated with high and low GC content, which have been linked to heart disease susceptibility.\n"
      ],
      "metadata": {
        "id": "HCCMQjKH1sWi"
      }
    },
    {
      "cell_type": "markdown",
      "source": [
        "# Hidden Markov Models (HMM) (40 points)\n",
        "\n",
        "Hidden Markov Models are probabilistic models widely used in sequential data analysis, particularly in bioinformatics. They are characterized by states, transitions between states, and emission probabilities associated with each state. In our context, the states represent the underlying biological characteristics of DNA sequences, while the emission probabilities signify the likelihood of observing specific nucleotides given each state.\n",
        "\n",
        "To facilitate our heart disease classification, we'll implement a custom Hidden Markov Model (HMM) class in Python. This class will include the Viterbi and Forward algorithms."
      ],
      "metadata": {
        "id": "tsYpNuyH4Cu-"
      }
    },
    {
      "cell_type": "code",
      "source": [
        "import numpy as np\n",
        "\n",
        "class HMM:\n",
        "    def __init__(self, states: list, emissions: list, start_probabilities: list, transition_probabilities: list, emission_probabilities: list):\n",
        "        self.states = states\n",
        "        self.state_labels = {i: state for i, state in enumerate(states)}\n",
        "        self.emissions = emissions\n",
        "        self.start_probabilities = start_probabilities\n",
        "        self.transition_probabilities = transition_probabilities\n",
        "        self.emission_probabilities = emission_probabilities\n",
        "\n",
        "    def viterbi(self, sequence: str) -> tuple:\n",
        "        n_states = len(self.states)\n",
        "        len_seq = len(sequence)\n",
        "\n",
        "        dp = np.zeros((n_states, len_seq))\n",
        "        path = np.zeros((n_states, len_seq), dtype=int)\n",
        "\n",
        "        for s in range(n_states):\n",
        "            dp[s, 0] = self.start_probabilities[s] * self.emission_probabilities[s][self.emissions.index(sequence[0])]\n",
        "            path[s, 0] = s\n",
        "\n",
        "        for t in range(1, len_seq):\n",
        "            for s in range(n_states):\n",
        "                max_prob = dp[0, t-1] * self.transition_probabilities[0][s] * self.emission_probabilities[s][self.emissions.index(sequence[t])]\n",
        "                max_state = 0\n",
        "                for s_prime in range(1, n_states):\n",
        "                    prob = dp[s_prime, t-1] * self.transition_probabilities[s_prime][s] * self.emission_probabilities[s][self.emissions.index(sequence[t])]\n",
        "                    if prob > max_prob:\n",
        "                        max_prob = prob\n",
        "                        max_state = s_prime\n",
        "                dp[s, t] = max_prob\n",
        "                path[s, t] = max_state\n",
        "\n",
        "        max_prob = dp[0, len_seq-1]\n",
        "        last_state = 0\n",
        "        for s in range(1, n_states):\n",
        "            if dp[s, len_seq-1] > max_prob:\n",
        "                max_prob = dp[s, len_seq-1]\n",
        "                last_state = s\n",
        "\n",
        "        opt_path = np.zeros(len_seq, dtype=int)\n",
        "        opt_path[len_seq-1] = last_state\n",
        "        for t in range(len_seq-2, -1, -1):\n",
        "            opt_path[t] = path[opt_path[t+1], t+1]\n",
        "\n",
        "        state_path = ''.join(self.state_labels[state] for state in opt_path)\n",
        "\n",
        "        return state_path, max_prob\n",
        "\n",
        "    def forward_algorithm(self, sequence: str) -> list:\n",
        "        n_states = len(self.states)\n",
        "        len_seq = len(sequence)\n",
        "\n",
        "        forward = np.zeros((n_states, len_seq))\n",
        "\n",
        "        for s in range(n_states):\n",
        "            forward[s, 0] = self.start_probabilities[s] * self.emission_probabilities[s][self.emissions.index(sequence[0])]\n",
        "\n",
        "        for t in range(1, len_seq):\n",
        "            for s in range(n_states):\n",
        "                forward[s, t] = sum(forward[s_prime, t-1] * self.transition_probabilities[s_prime][s] for s_prime in range(n_states)) * self.emission_probabilities[s][self.emissions.index(sequence[t])]\n",
        "\n",
        "        probability_last_states = forward[:, len_seq-1]\n",
        "\n",
        "        total_probability = sum(probability_last_states)\n",
        "        if total_probability > 0:\n",
        "            probability_last_states = probability_last_states / total_probability\n",
        "\n",
        "        return probability_last_states"
      ],
      "metadata": {
        "id": "UHTspQ58UDSs"
      },
      "execution_count": 3,
      "outputs": []
    },
    {
      "cell_type": "markdown",
      "source": [
        "GC content, the proportion of guanine (G) and cytosine (C) nucleotides in a DNA sequence, is a fundamental genomic feature. Variations in GC content have been implicated in various biological processes, including gene regulation and disease susceptibility. Specifically, high GC content (H) regions are associated with increased gene expression and potential regulatory elements, while low GC content (L) regions may indicate structural elements or regions prone to mutations. The transition and emission and start probabilities are as shown in the image below:\n",
        "\n",
        "No Image Available!\n"
      ],
      "metadata": {
        "id": "9isx2p9kFT4o"
      }
    },
    {
      "cell_type": "code",
      "source": [
        "states = ['H', 'L']\n",
        "emissions = ['A', 'C', 'G', 'T']\n",
        "start_probabilities = [0.5, 0.5]\n",
        "transition_probabilities = [\n",
        "    [0.5, 0.5],  # from H to [H, L]\n",
        "    [0.4, 0.6]   # from L to [H, L]\n",
        "]\n",
        "emission_probabilities = [\n",
        "    [0.2, 0.3, 0.3, 0.2],  # H state emissions [A, C, G, T]\n",
        "    [0.3, 0.2, 0.2, 0.3]   # L state emissions [A, C, G, T]\n",
        "]\n",
        "\n",
        "hmm = HMM(states, emissions, start_probabilities, transition_probabilities, emission_probabilities)\n",
        "\n",
        "# Example DNA sequence\n",
        "sequence = \"ATGCGCGATCGATCGAATCGCGT\"\n",
        "\n",
        "# Viterbi algorithm\n",
        "path, max_probability = hmm.viterbi(sequence)\n",
        "print(\"Viterbi Path:\", path)\n",
        "print(\"Max Probability (Viterbi):\", max_probability)\n",
        "\n",
        "# Forward algorithm\n",
        "probability = hmm.forward_algorithm(sequence)\n",
        "print(\"Probability (Forward Algorithm):\", list(probability))\n"
      ],
      "metadata": {
        "colab": {
          "base_uri": "https://localhost:8080/"
        },
        "id": "9CcWsAvQXjJ_",
        "outputId": "1db0b3ce-9d40-4818-8612-490c4eef59b0"
      },
      "execution_count": null,
      "outputs": [
        {
          "output_type": "stream",
          "name": "stdout",
          "text": [
            "Viterbi Path: LLHHHHHLLHHLLHHLLLHHHHL\n",
            "Max Probability (Viterbi): 1.1438396227480495e-19\n",
            "Probability (Forward Algorithm): [0.35818008853498684, 0.6418199114650132]\n"
          ]
        }
      ]
    },
    {
      "cell_type": "markdown",
      "source": [
        "# Calculating Probabilities for Blood Type, Height, and Weight (10 points)\n",
        "\n",
        "After obtaining the sequence of H and L regions from the DNA using the Viterbi algorithm, we proceed to calculate the probabilities for other attributes such as blood type, height, weight, and the presence or absence of DCM (DCM, or Dilated Cardiomyopathy, is a heart condition characterized by the enlargement of the heart's left ventricle. It can lead to heart failure if not properly managed.) using the Forward algorithm. In this step, we aim to leverage the Hidden Markov Model (HMM) to infer these attributes based on the observed GC content sequence.\n",
        "\n",
        "\n",
        "We will use the functionality of the Forward algorithm to compute the probabilities associated with each possible state after observing the sequence.\n",
        "\n",
        "Attributes and Possible States:\n",
        "* Blood Type: O, A, B, AB\n",
        "* Height: 160 cm, 170 cm, 180 cm, 190 cm\n",
        "* Weight: 50 kg, 65 kg, 80 kg, 95 kg\n",
        "* DCM: Y (indicating presence) or N (indicating absence)\n"
      ],
      "metadata": {
        "id": "RE8zgAe07NnC"
      }
    },
    {
      "cell_type": "code",
      "source": [
        "def probabilities_from_sequence(sequence: str) -> tuple:\n",
        "    '''\n",
        "    This function computes the probabilities associated with attributes such as blood type, height, weight,\n",
        "    and the presence or absence of Dilated Cardiomyopathy (DCM) based on an input DNA sequence.\n",
        "\n",
        "    ### Input:\n",
        "    - `sequence`: The observed DNA sequence for which probabilities are to be computed.\n",
        "\n",
        "    ### Output:\n",
        "    The function returns dictionaries containing the probabilities for each possible state of the respective attributes:\n",
        "    - `height_probability_dic`: Probabilities for height categories (160 cm, 170 cm, 180 cm, 190 cm).\n",
        "    - `weight_probability_dic`: Probabilities for weight categories (50 kg, 65 kg, 80 kg, 95 kg).\n",
        "    - `blood_type_probability_dic`: Probabilities for blood types (O, A, B, AB).\n",
        "    - `DCM_probability_dic`: Probabilities for the presence (Y) or absence (N) of Dilated Cardiomyopathy (DCM).\n",
        "    '''\n",
        "    # Define the emission probabilities for each feature\n",
        "    height_emissions = [{'H': 0.2, 'L': 0.8}, {'H': 0.3, 'L': 0.7},\n",
        "                        {'H': 0.9, 'L': 0.1}, {'H': 0.8, 'L': 0.2}]\n",
        "\n",
        "    weight_emissions = [{'H': 0.3, 'L': 0.7}, {'H': 0.1, 'L': 0.9},\n",
        "                        {'H': 0.2, 'L': 0.8}, {'H': 0.7, 'L': 0.3}]\n",
        "\n",
        "    blood_type_emissions = [{'H': 0.75, 'L': 0.25}, {'H': 0.8, 'L': 0.2},\n",
        "                            {'H': 0.85, 'L': 0.15}, {'H': 0.7, 'L': 0.3}]\n",
        "\n",
        "    DCM_emissions = [{'H': 0.7, 'L': 0.3}, {'H': 0.6, 'L': 0.4}]\n",
        "\n",
        "    # Define the transition probabilities for each feature\n",
        "    height_transition_probabilities = [[0.7, 0.2, 0.05, 0.05], [0.1, 0.8, 0.05, 0.05], [0.1, 0.1, 0.7, 0.1], [0.1, 0.1, 0.1, 0.7]]\n",
        "    weight_transition_probabilities = [[0.7, 0.2, 0.05, 0.05], [0.1, 0.8, 0.05, 0.05], [0.1, 0.1, 0.7, 0.1], [0.1, 0.1, 0.1, 0.7]]\n",
        "    blood_type_transition_probabilities = [[0.7, 0.2, 0.05, 0.05], [0.1, 0.8, 0.05, 0.05], [0.1, 0.1, 0.7, 0.1], [0.1, 0.1, 0.1, 0.7]]\n",
        "    DCM_transition_probabilities = [[0.9, 0.1], [0.1, 0.9]]\n",
        "\n",
        "    # Define start probabilities for each state\n",
        "    height_start_probabilities = [0.1, 0.4, 0.4, 0.1]\n",
        "    weight_start_probabilities = [0.15, 0.35, 0.35, 0.15]\n",
        "    blood_type_start_probabilities = [0.1, 0.35, 0.35, 0.2]\n",
        "    DCM_start_probabilities = [0.25, 0.75]\n",
        "\n",
        "    def forward_algorithm(emissions, transitions, start_probabilities):\n",
        "        N = len(emissions)  # Number of states\n",
        "        T = len(sequence)   # Length of the sequence\n",
        "\n",
        "        forward = [[0.0] * N for _ in range(T)]\n",
        "\n",
        "        for i in range(N):\n",
        "            forward[0][i] = start_probabilities[i] * emissions[i][sequence[0]]\n",
        "\n",
        "        for t in range(1, T):\n",
        "            for j in range(N):\n",
        "                forward[t][j] = sum(forward[t-1][i] * transitions[i][j] * emissions[j][sequence[t]] for i in range(N))\n",
        "\n",
        "        # Termination step\n",
        "        probabilities = [sum(forward[t][i] for i in range(N)) for t in range(T)]\n",
        "        final_probabilities = [forward[T-1][i] / sum(forward[T-1]) for i in range(N)]\n",
        "\n",
        "        return final_probabilities\n",
        "\n",
        "    height_probability = forward_algorithm(height_emissions, height_transition_probabilities, height_start_probabilities)\n",
        "    weight_probability = forward_algorithm(weight_emissions, weight_transition_probabilities, weight_start_probabilities)\n",
        "    blood_type_probability = forward_algorithm(blood_type_emissions, blood_type_transition_probabilities, blood_type_start_probabilities)\n",
        "    DCM_probability = forward_algorithm(DCM_emissions, DCM_transition_probabilities, DCM_start_probabilities)\n",
        "\n",
        "    height_states = [160, 170, 180, 190]\n",
        "    weight_states = [50, 65, 80, 95]\n",
        "    blood_type_states = ['O', 'A', 'B', 'AB']\n",
        "    DCM_states = ['Y', 'N']\n",
        "\n",
        "    # Create dictionaries for each attribute\n",
        "    height_dict = {height_states[i]: height_probability[i] for i in range(len(height_states))}\n",
        "    weight_dict = {weight_states[i]: weight_probability[i] for i in range(len(weight_states))}\n",
        "    blood_type_dict = {blood_type_states[i]: blood_type_probability[i] for i in range(len(blood_type_states))}\n",
        "    DCM_dict = {DCM_states[i]: DCM_probability[i] for i in range(len(DCM_states))}\n",
        "\n",
        "    return height_dict, weight_dict, blood_type_dict, DCM_dict\n"
      ],
      "metadata": {
        "id": "MKDBSoumfmb6"
      },
      "execution_count": 4,
      "outputs": []
    },
    {
      "cell_type": "code",
      "source": [
        "# Run this code to check your implementation\n",
        "# Example sequence of 'H' and 'L'\n",
        "sequence = \"HHLLHHHLLHLLLLHHLL\"\n",
        "\n",
        "height_dict, weight_dict, blood_type_dict, DCM_dict = probabilities_from_sequence(sequence)\n",
        "\n",
        "print(\"Probability of height given sequence:\", height_dict)\n",
        "print(\"Probability of weight given sequence:\", weight_dict)\n",
        "print(\"Probability of blood type given sequence:\", blood_type_dict)\n",
        "print(\"Probability of DCM given sequence:\", DCM_dict)"
      ],
      "metadata": {
        "colab": {
          "base_uri": "https://localhost:8080/"
        },
        "id": "vwGQ9QSAhEl5",
        "outputId": "242ddab4-7b31-44eb-a841-fff161f58f8c"
      },
      "execution_count": null,
      "outputs": [
        {
          "output_type": "stream",
          "name": "stdout",
          "text": [
            "Probability of height given sequence: {160: 0.36605931748711135, 170: 0.5760951509787055, 180: 0.015850353367627773, 190: 0.04199517816655549}\n",
            "Probability of weight given sequence: {50: 0.2845952908892867, 65: 0.42707075390249144, 80: 0.20957356322963908, 95: 0.07876039197858277}\n",
            "Probability of blood type given sequence: {'O': 0.29628284733090365, 'A': 0.3305080573190477, 'B': 0.08789883086305705, 'AB': 0.2853102644869917}\n",
            "Probability of DCM given sequence: {'Y': 0.3297758181008331, 'N': 0.6702241818991669}\n"
          ]
        }
      ]
    },
    {
      "cell_type": "markdown",
      "source": [
        "# Bayesian Network for Heart Disease Probability Calculation (30 points)\n",
        "\n",
        "In this section, we introduce a Bayesian network to calculate the probability of heart disease based on various features. We assume that the relationships between features follow a specific structure, depicted in the image below.\n",
        "\n",
        "No Image Available!\n",
        "\n",
        "The Bayesian network comprises nodes representing different features, including sex, weight, height, Dilated Cardiomyopathy (DCM), blood type, and heart disease. The directed edges between nodes indicate probabilistic dependencies between them.\n",
        "\n",
        "Function Implementation:\n",
        "We will implement two functions to facilitate the calculation of heart disease probability:\n",
        "\n",
        "1. calculate_sex_probability:\n",
        "\n",
        "  This function calculates the probability of sex based on the given probabilities of weight and height.\n",
        "\n",
        "2. calculate_heart_disease_probability:\n",
        "\n",
        "  This function computes the probability of heart disease based on the probabilities of sex, DCM, and blood type."
      ],
      "metadata": {
        "id": "EglKERkiKrZv"
      }
    },
    {
      "cell_type": "code",
      "source": [
        "# The probability of sex given height and weight, the tuple is in this order: (sex, height, weight)\n",
        "P_sex_given_hw = {\n",
        "    ('M', 160, 50): 0.7, ('F', 160, 50): 0.3,\n",
        "    ('M', 160, 65): 0.2, ('F', 160, 65): 0.8,\n",
        "    ('M', 160, 80): 0.3, ('F', 160, 80): 0.7,\n",
        "    ('M', 160, 95): 0.2, ('F', 160, 95): 0.8,\n",
        "    ('M', 170, 50): 0.8, ('F', 170, 50): 0.2,\n",
        "    ('M', 170, 65): 0.75, ('F', 170, 65): 0.25,\n",
        "    ('M', 170, 80): 0.4, ('F', 170, 80): 0.6,\n",
        "    ('M', 170, 95): 0.3, ('F', 170, 95): 0.7,\n",
        "    ('M', 180, 50): 0.9, ('F', 180, 50): 0.1,\n",
        "    ('M', 180, 65): 0.7, ('F', 180, 65): 0.3,\n",
        "    ('M', 180, 80): 0.65, ('F', 180, 80): 0.35,\n",
        "    ('M', 180, 95): 0.4, ('F', 180, 95): 0.6,\n",
        "    ('M', 190, 50): 0.95, ('F', 190, 50): 0.05,\n",
        "    ('M', 190, 65): 0.8, ('F', 190, 65): 0.2,\n",
        "    ('M', 190, 80): 0.6, ('F', 190, 80): 0.4,\n",
        "    ('M', 190, 95): 0.95, ('F', 190, 95): 0.05\n",
        "}"
      ],
      "metadata": {
        "id": "wi3Rz_6eOCpD"
      },
      "execution_count": 10,
      "outputs": []
    },
    {
      "cell_type": "code",
      "source": [
        "import numpy as np\n",
        "\n",
        "def calculate_sex_probability(height_prob: dict, weight_prob: dict) -> dict:\n",
        "    '''\n",
        "    This function calculates the probability of sex based on the probabilities of height and weight.\n",
        "    It assumes that the probabilities of height and weight are independent and uses them to compute the combined\n",
        "    probability distribution for each sex ('M' and 'F').\n",
        "\n",
        "    Parameters:\n",
        "    - height_prob: Dictionary containing probabilities for height categories.\n",
        "    - weight_prob: Dictionary containing probabilities for weight categories.\n",
        "\n",
        "    Returns:\n",
        "    - Dictionary containing probabilities for male (M) and female (F) sexes.\n",
        "    '''\n",
        "\n",
        "    # Initialize the probabilities for each sex\n",
        "    sex_probability = {'M': 0, 'F': 0}\n",
        "\n",
        "    # Compute combined probability for each sex\n",
        "    for (sex, height, weight), prob in P_sex_given_hw.items():\n",
        "        if height in height_prob and weight in weight_prob:\n",
        "            combined_prob = height_prob[height] * weight_prob[weight] * prob\n",
        "            sex_probability[sex] += combined_prob\n",
        "\n",
        "    # Normalize the probabilities to sum to 1\n",
        "    total_prob = sex_probability['M'] + sex_probability['F']\n",
        "    if total_prob > 0:\n",
        "        sex_probability['M'] /= total_prob\n",
        "        sex_probability['F'] /= total_prob\n",
        "\n",
        "    return sex_probability\n",
        "\n",
        "# Example height and weight probabilities\n",
        "P_height = {160: 0.25, 170: 0.25, 180: 0.25, 190: 0.25}\n",
        "P_weight = {50: 0.25, 65: 0.25, 80: 0.25, 95: 0.25}\n",
        "\n",
        "# Calculate sex probabilities\n",
        "sex_probabilities = calculate_sex_probability(P_height, P_weight)\n",
        "print(\"Probability of sex:\", sex_probabilities)\n"
      ],
      "metadata": {
        "id": "p_sCg50LOraD",
        "colab": {
          "base_uri": "https://localhost:8080/"
        },
        "outputId": "c3863b8f-7d0e-42d0-e81b-b4f8761bfea8"
      },
      "execution_count": 11,
      "outputs": [
        {
          "output_type": "stream",
          "name": "stdout",
          "text": [
            "Probability of sex: {'M': 0.6, 'F': 0.39999999999999997}\n"
          ]
        }
      ]
    },
    {
      "cell_type": "code",
      "source": [
        "# Run this code to test you implementation\n",
        "# Example probabilities of height\n",
        "P_height = {160: 0.1, 170: 0.3, 180: 0.4, 190: 0.2}\n",
        "# Example probabilities of weight\n",
        "P_weight = {50: 0.2, 65: 0.3, 80: 0.4, 95: 0.1}\n",
        "# Example conditional probabilities of sex given height and weight\n",
        "\n",
        "\n",
        "sex_probabilities = calculate_sex_probability(P_height, P_weight)\n",
        "print(\"Probability of sex:\", sex_probabilities)"
      ],
      "metadata": {
        "colab": {
          "base_uri": "https://localhost:8080/"
        },
        "id": "zChVjCjzOVoZ",
        "outputId": "d2e6e179-93b2-496f-ccfe-993702ca677d"
      },
      "execution_count": null,
      "outputs": [
        {
          "output_type": "stream",
          "name": "stdout",
          "text": [
            "Probability of sex: {'M': 0.6355000000000001, 'F': 0.3645}\n"
          ]
        }
      ]
    },
    {
      "cell_type": "code",
      "source": [
        "# The probability of hear disease given sex, DCM and blood type, the tuple is in this order: (heart disease, sex, blood type, DCM)\n",
        "P_heart_disease_given_parents = {\n",
        "    ('N', 'M', 'O', 'Y'): 0.3, ('Y', 'M', 'O', 'Y'): 0.7,\n",
        "    ('N', 'M', 'A', 'Y'): 0.4, ('Y', 'M', 'A', 'Y'): 0.6,\n",
        "    ('N', 'M', 'B', 'Y'): 0.5, ('Y', 'M', 'B', 'Y'): 0.5,\n",
        "    ('N', 'M', 'AB', 'Y'): 0.6, ('Y', 'M', 'AB', 'Y'): 0.4,\n",
        "    ('N', 'F', 'O', 'Y'): 0.6, ('Y', 'F', 'O', 'Y'): 0.4,\n",
        "    ('N', 'F', 'A', 'Y'): 0.3, ('Y', 'F', 'A', 'Y'): 0.7,\n",
        "    ('N', 'F', 'B', 'Y'): 0.4, ('Y', 'F', 'B', 'Y'): 0.6,\n",
        "    ('N', 'F', 'AB', 'Y'): 0.7, ('Y', 'F', 'AB', 'Y'): 0.3,\n",
        "    ('N', 'M', 'O', 'N'): 0.6, ('Y', 'M', 'O', 'N'): 0.4,\n",
        "    ('N', 'M', 'A', 'N'): 0.15, ('Y', 'M', 'A', 'N'): 0.85,\n",
        "    ('N', 'M', 'B', 'N'): 0.4, ('Y', 'M', 'B', 'N'): 0.6,\n",
        "    ('N', 'M', 'AB', 'N'): 0.7, ('Y', 'M', 'AB', 'N'): 0.3,\n",
        "    ('N', 'F', 'O', 'N'): 0.8, ('Y', 'F', 'O', 'N'): 0.2,\n",
        "    ('N', 'F', 'A', 'N'): 0.7, ('Y', 'F', 'A', 'N'): 0.3,\n",
        "    ('N', 'F', 'B', 'N'): 0.65, ('Y', 'F', 'B', 'N'): 0.35,\n",
        "    ('N', 'F', 'AB', 'N'): 0.35, ('Y', 'F', 'AB', 'N'): 0.65,\n",
        "}"
      ],
      "metadata": {
        "id": "mRooypaNPDr5"
      },
      "execution_count": 13,
      "outputs": []
    },
    {
      "cell_type": "code",
      "source": [
        "import numpy as np\n",
        "\n",
        "def calculate_heart_disease_probability(DCM_prob: dict, sex_prob: dict, blood_type_prob: dict) -> dict:\n",
        "    '''\n",
        "    Function: Calculate Heart Disease Probability\n",
        "\n",
        "    This function calculates the probability of heart disease based on the probabilities of Dilated Cardiomyopathy (DCM),\n",
        "    sex, and blood type. It uses a dictionary of conditional probabilities for heart disease given DCM, sex, and blood type.\n",
        "\n",
        "    Parameters:\n",
        "    - DCM_prob: Dictionary containing probabilities for DCM categories ('Y' and 'N').\n",
        "    - sex_prob: Dictionary containing probabilities for sex categories ('M' and 'F').\n",
        "    - blood_type_prob: Dictionary containing probabilities for blood type categories ('O', 'A', 'B', 'AB').\n",
        "\n",
        "    Returns:\n",
        "    - Dictionary containing probabilities for the presence ('Y') and absence ('N') of heart disease.\n",
        "    '''\n",
        "    # Initialize the probabilities for heart disease\n",
        "    heart_disease_probability = {'Y': 0, 'N': 0}\n",
        "\n",
        "    # Calculate the probability of heart disease\n",
        "    for (hd, sex, bt, dcm), p_hd in P_heart_disease_given_parents.items():\n",
        "        if sex in sex_prob and bt in blood_type_prob and dcm in DCM_prob:\n",
        "            # Calculate the joint probability\n",
        "            joint_prob = sex_prob[sex] * blood_type_prob[bt] * DCM_prob[dcm] * p_hd\n",
        "            # Accumulate the probabilities\n",
        "            heart_disease_probability[hd] += joint_prob\n",
        "\n",
        "    # Normalize the probabilities to sum to 1\n",
        "    total_prob = heart_disease_probability['Y'] + heart_disease_probability['N']\n",
        "    if total_prob > 0:\n",
        "        heart_disease_probability['Y'] /= total_prob\n",
        "        heart_disease_probability['N'] /= total_prob\n",
        "\n",
        "    return heart_disease_probability\n"
      ],
      "metadata": {
        "id": "yIG7zuoyPiiN"
      },
      "execution_count": 14,
      "outputs": []
    },
    {
      "cell_type": "code",
      "source": [
        "# Run this code to test you implementation\n",
        "# Example probabilities of DCM\n",
        "P_DCM = {'Y': 0.2, 'N': 0.8}\n",
        "# Example probabilities of blood type\n",
        "P_blood_type = {'O': 0.4, 'A': 0.3, 'B': 0.2, 'AB': 0.1}\n",
        "# Example probabilities of sex\n",
        "P_sex = {'M': 0.3, 'F': 0.7}\n",
        "\n",
        "\n",
        "heart_disease_probabilities = calculate_heart_disease_probability(P_DCM, P_sex, P_blood_type)\n",
        "print(\"Probability of heart disease: \",heart_disease_probabilities)"
      ],
      "metadata": {
        "colab": {
          "base_uri": "https://localhost:8080/"
        },
        "id": "QA0XWltJPXJL",
        "outputId": "ea23c23b-cef4-41ab-8252-3f5f1c3c67b1"
      },
      "execution_count": null,
      "outputs": [
        {
          "output_type": "stream",
          "name": "stdout",
          "text": [
            "Probability of heart disease:  {'Y': 0.41519999999999996, 'N': 0.5848}\n"
          ]
        }
      ]
    },
    {
      "cell_type": "markdown",
      "source": [
        "# Loading DNA Sequences and Heart Disease Probability Calculation (20 points)\n",
        "\n",
        "In this part, we will load the DNA sequences from the file DNA_patients.csv and calculate the probability of heart disease for each patient. Subsequently, we will classify the patients based on their heart disease probability and save the data."
      ],
      "metadata": {
        "id": "i-T4axv2P2n3"
      }
    },
    {
      "cell_type": "code",
      "source": [
        "# Read the CSV file into a DataFrame\n",
        "df = pd.read_csv('DNA_patients.csv')\n",
        "\n",
        "df.head()"
      ],
      "metadata": {
        "colab": {
          "base_uri": "https://localhost:8080/",
          "height": 204
        },
        "id": "AdJEmpbNSuV9",
        "outputId": "d71f070d-351e-4e49-c291-aae48c00a4b1"
      },
      "execution_count": 15,
      "outputs": [
        {
          "output_type": "execute_result",
          "data": {
            "text/plain": [
              "   ID                                                DNA\n",
              "0   1  CTCCAATACCCCCCACAAGAACACACCCATAAAATTGCAACCCACA...\n",
              "1   2  TTGATGTAGAAGTATATTTGTTGGGTATTTGAGGTAACGTTATTAG...\n",
              "2   3  ATATAATTTAAAGTCACTGGAAAAAAACAACCTAATAAAAACCACC...\n",
              "3   4  TAAAGACAAAATTAAATTGAAGTAATGTTATGTTAAAATTTTGAAT...\n",
              "4   5  AGCGTTTGTTCGTTAGCCGTAGGCAATGACGTGATTCAGGTCTGTG..."
            ],
            "text/html": [
              "\n",
              "  <div id=\"df-a7668779-25df-4ef1-84f6-e39b89c9d9c5\" class=\"colab-df-container\">\n",
              "    <div>\n",
              "<style scoped>\n",
              "    .dataframe tbody tr th:only-of-type {\n",
              "        vertical-align: middle;\n",
              "    }\n",
              "\n",
              "    .dataframe tbody tr th {\n",
              "        vertical-align: top;\n",
              "    }\n",
              "\n",
              "    .dataframe thead th {\n",
              "        text-align: right;\n",
              "    }\n",
              "</style>\n",
              "<table border=\"1\" class=\"dataframe\">\n",
              "  <thead>\n",
              "    <tr style=\"text-align: right;\">\n",
              "      <th></th>\n",
              "      <th>ID</th>\n",
              "      <th>DNA</th>\n",
              "    </tr>\n",
              "  </thead>\n",
              "  <tbody>\n",
              "    <tr>\n",
              "      <th>0</th>\n",
              "      <td>1</td>\n",
              "      <td>CTCCAATACCCCCCACAAGAACACACCCATAAAATTGCAACCCACA...</td>\n",
              "    </tr>\n",
              "    <tr>\n",
              "      <th>1</th>\n",
              "      <td>2</td>\n",
              "      <td>TTGATGTAGAAGTATATTTGTTGGGTATTTGAGGTAACGTTATTAG...</td>\n",
              "    </tr>\n",
              "    <tr>\n",
              "      <th>2</th>\n",
              "      <td>3</td>\n",
              "      <td>ATATAATTTAAAGTCACTGGAAAAAAACAACCTAATAAAAACCACC...</td>\n",
              "    </tr>\n",
              "    <tr>\n",
              "      <th>3</th>\n",
              "      <td>4</td>\n",
              "      <td>TAAAGACAAAATTAAATTGAAGTAATGTTATGTTAAAATTTTGAAT...</td>\n",
              "    </tr>\n",
              "    <tr>\n",
              "      <th>4</th>\n",
              "      <td>5</td>\n",
              "      <td>AGCGTTTGTTCGTTAGCCGTAGGCAATGACGTGATTCAGGTCTGTG...</td>\n",
              "    </tr>\n",
              "  </tbody>\n",
              "</table>\n",
              "</div>\n",
              "    <div class=\"colab-df-buttons\">\n",
              "\n",
              "  <div class=\"colab-df-container\">\n",
              "    <button class=\"colab-df-convert\" onclick=\"convertToInteractive('df-a7668779-25df-4ef1-84f6-e39b89c9d9c5')\"\n",
              "            title=\"Convert this dataframe to an interactive table.\"\n",
              "            style=\"display:none;\">\n",
              "\n",
              "  <svg xmlns=\"http://www.w3.org/2000/svg\" height=\"24px\" viewBox=\"0 -960 960 960\">\n",
              "    <path d=\"M120-120v-720h720v720H120Zm60-500h600v-160H180v160Zm220 220h160v-160H400v160Zm0 220h160v-160H400v160ZM180-400h160v-160H180v160Zm440 0h160v-160H620v160ZM180-180h160v-160H180v160Zm440 0h160v-160H620v160Z\"/>\n",
              "  </svg>\n",
              "    </button>\n",
              "\n",
              "  <style>\n",
              "    .colab-df-container {\n",
              "      display:flex;\n",
              "      gap: 12px;\n",
              "    }\n",
              "\n",
              "    .colab-df-convert {\n",
              "      background-color: #E8F0FE;\n",
              "      border: none;\n",
              "      border-radius: 50%;\n",
              "      cursor: pointer;\n",
              "      display: none;\n",
              "      fill: #1967D2;\n",
              "      height: 32px;\n",
              "      padding: 0 0 0 0;\n",
              "      width: 32px;\n",
              "    }\n",
              "\n",
              "    .colab-df-convert:hover {\n",
              "      background-color: #E2EBFA;\n",
              "      box-shadow: 0px 1px 2px rgba(60, 64, 67, 0.3), 0px 1px 3px 1px rgba(60, 64, 67, 0.15);\n",
              "      fill: #174EA6;\n",
              "    }\n",
              "\n",
              "    .colab-df-buttons div {\n",
              "      margin-bottom: 4px;\n",
              "    }\n",
              "\n",
              "    [theme=dark] .colab-df-convert {\n",
              "      background-color: #3B4455;\n",
              "      fill: #D2E3FC;\n",
              "    }\n",
              "\n",
              "    [theme=dark] .colab-df-convert:hover {\n",
              "      background-color: #434B5C;\n",
              "      box-shadow: 0px 1px 3px 1px rgba(0, 0, 0, 0.15);\n",
              "      filter: drop-shadow(0px 1px 2px rgba(0, 0, 0, 0.3));\n",
              "      fill: #FFFFFF;\n",
              "    }\n",
              "  </style>\n",
              "\n",
              "    <script>\n",
              "      const buttonEl =\n",
              "        document.querySelector('#df-a7668779-25df-4ef1-84f6-e39b89c9d9c5 button.colab-df-convert');\n",
              "      buttonEl.style.display =\n",
              "        google.colab.kernel.accessAllowed ? 'block' : 'none';\n",
              "\n",
              "      async function convertToInteractive(key) {\n",
              "        const element = document.querySelector('#df-a7668779-25df-4ef1-84f6-e39b89c9d9c5');\n",
              "        const dataTable =\n",
              "          await google.colab.kernel.invokeFunction('convertToInteractive',\n",
              "                                                    [key], {});\n",
              "        if (!dataTable) return;\n",
              "\n",
              "        const docLinkHtml = 'Like what you see? Visit the ' +\n",
              "          '<a target=\"_blank\" href=https://colab.research.google.com/notebooks/data_table.ipynb>data table notebook</a>'\n",
              "          + ' to learn more about interactive tables.';\n",
              "        element.innerHTML = '';\n",
              "        dataTable['output_type'] = 'display_data';\n",
              "        await google.colab.output.renderOutput(dataTable, element);\n",
              "        const docLink = document.createElement('div');\n",
              "        docLink.innerHTML = docLinkHtml;\n",
              "        element.appendChild(docLink);\n",
              "      }\n",
              "    </script>\n",
              "  </div>\n",
              "\n",
              "\n",
              "<div id=\"df-8bfa44d5-5b48-41c0-af25-48ec20c67790\">\n",
              "  <button class=\"colab-df-quickchart\" onclick=\"quickchart('df-8bfa44d5-5b48-41c0-af25-48ec20c67790')\"\n",
              "            title=\"Suggest charts\"\n",
              "            style=\"display:none;\">\n",
              "\n",
              "<svg xmlns=\"http://www.w3.org/2000/svg\" height=\"24px\"viewBox=\"0 0 24 24\"\n",
              "     width=\"24px\">\n",
              "    <g>\n",
              "        <path d=\"M19 3H5c-1.1 0-2 .9-2 2v14c0 1.1.9 2 2 2h14c1.1 0 2-.9 2-2V5c0-1.1-.9-2-2-2zM9 17H7v-7h2v7zm4 0h-2V7h2v10zm4 0h-2v-4h2v4z\"/>\n",
              "    </g>\n",
              "</svg>\n",
              "  </button>\n",
              "\n",
              "<style>\n",
              "  .colab-df-quickchart {\n",
              "      --bg-color: #E8F0FE;\n",
              "      --fill-color: #1967D2;\n",
              "      --hover-bg-color: #E2EBFA;\n",
              "      --hover-fill-color: #174EA6;\n",
              "      --disabled-fill-color: #AAA;\n",
              "      --disabled-bg-color: #DDD;\n",
              "  }\n",
              "\n",
              "  [theme=dark] .colab-df-quickchart {\n",
              "      --bg-color: #3B4455;\n",
              "      --fill-color: #D2E3FC;\n",
              "      --hover-bg-color: #434B5C;\n",
              "      --hover-fill-color: #FFFFFF;\n",
              "      --disabled-bg-color: #3B4455;\n",
              "      --disabled-fill-color: #666;\n",
              "  }\n",
              "\n",
              "  .colab-df-quickchart {\n",
              "    background-color: var(--bg-color);\n",
              "    border: none;\n",
              "    border-radius: 50%;\n",
              "    cursor: pointer;\n",
              "    display: none;\n",
              "    fill: var(--fill-color);\n",
              "    height: 32px;\n",
              "    padding: 0;\n",
              "    width: 32px;\n",
              "  }\n",
              "\n",
              "  .colab-df-quickchart:hover {\n",
              "    background-color: var(--hover-bg-color);\n",
              "    box-shadow: 0 1px 2px rgba(60, 64, 67, 0.3), 0 1px 3px 1px rgba(60, 64, 67, 0.15);\n",
              "    fill: var(--button-hover-fill-color);\n",
              "  }\n",
              "\n",
              "  .colab-df-quickchart-complete:disabled,\n",
              "  .colab-df-quickchart-complete:disabled:hover {\n",
              "    background-color: var(--disabled-bg-color);\n",
              "    fill: var(--disabled-fill-color);\n",
              "    box-shadow: none;\n",
              "  }\n",
              "\n",
              "  .colab-df-spinner {\n",
              "    border: 2px solid var(--fill-color);\n",
              "    border-color: transparent;\n",
              "    border-bottom-color: var(--fill-color);\n",
              "    animation:\n",
              "      spin 1s steps(1) infinite;\n",
              "  }\n",
              "\n",
              "  @keyframes spin {\n",
              "    0% {\n",
              "      border-color: transparent;\n",
              "      border-bottom-color: var(--fill-color);\n",
              "      border-left-color: var(--fill-color);\n",
              "    }\n",
              "    20% {\n",
              "      border-color: transparent;\n",
              "      border-left-color: var(--fill-color);\n",
              "      border-top-color: var(--fill-color);\n",
              "    }\n",
              "    30% {\n",
              "      border-color: transparent;\n",
              "      border-left-color: var(--fill-color);\n",
              "      border-top-color: var(--fill-color);\n",
              "      border-right-color: var(--fill-color);\n",
              "    }\n",
              "    40% {\n",
              "      border-color: transparent;\n",
              "      border-right-color: var(--fill-color);\n",
              "      border-top-color: var(--fill-color);\n",
              "    }\n",
              "    60% {\n",
              "      border-color: transparent;\n",
              "      border-right-color: var(--fill-color);\n",
              "    }\n",
              "    80% {\n",
              "      border-color: transparent;\n",
              "      border-right-color: var(--fill-color);\n",
              "      border-bottom-color: var(--fill-color);\n",
              "    }\n",
              "    90% {\n",
              "      border-color: transparent;\n",
              "      border-bottom-color: var(--fill-color);\n",
              "    }\n",
              "  }\n",
              "</style>\n",
              "\n",
              "  <script>\n",
              "    async function quickchart(key) {\n",
              "      const quickchartButtonEl =\n",
              "        document.querySelector('#' + key + ' button');\n",
              "      quickchartButtonEl.disabled = true;  // To prevent multiple clicks.\n",
              "      quickchartButtonEl.classList.add('colab-df-spinner');\n",
              "      try {\n",
              "        const charts = await google.colab.kernel.invokeFunction(\n",
              "            'suggestCharts', [key], {});\n",
              "      } catch (error) {\n",
              "        console.error('Error during call to suggestCharts:', error);\n",
              "      }\n",
              "      quickchartButtonEl.classList.remove('colab-df-spinner');\n",
              "      quickchartButtonEl.classList.add('colab-df-quickchart-complete');\n",
              "    }\n",
              "    (() => {\n",
              "      let quickchartButtonEl =\n",
              "        document.querySelector('#df-8bfa44d5-5b48-41c0-af25-48ec20c67790 button');\n",
              "      quickchartButtonEl.style.display =\n",
              "        google.colab.kernel.accessAllowed ? 'block' : 'none';\n",
              "    })();\n",
              "  </script>\n",
              "</div>\n",
              "    </div>\n",
              "  </div>\n"
            ],
            "application/vnd.google.colaboratory.intrinsic+json": {
              "type": "dataframe",
              "variable_name": "df",
              "summary": "{\n  \"name\": \"df\",\n  \"rows\": 1000,\n  \"fields\": [\n    {\n      \"column\": \"ID\",\n      \"properties\": {\n        \"dtype\": \"number\",\n        \"std\": 288,\n        \"min\": 1,\n        \"max\": 1000,\n        \"num_unique_values\": 1000,\n        \"samples\": [\n          522,\n          738,\n          741\n        ],\n        \"semantic_type\": \"\",\n        \"description\": \"\"\n      }\n    },\n    {\n      \"column\": \"DNA\",\n      \"properties\": {\n        \"dtype\": \"string\",\n        \"num_unique_values\": 1000,\n        \"samples\": [\n          \"AAGGTTTTGTTCGTTGGTTAGTCTATTATGGAAATAGGGTTGTAGTTTGTAGGGTATTTTTGATGATACGGTAGGTTAAGGTTTGTGACTGAAGTTGCAA\",\n          \"ACAACAACCCTCGAGTCTGAGCTCCACGGACCCCACGTGCCGCAAGCCCACCCTCCACACCATCGGAACCTCTCAACTATCTTTAACGTTAGCATCCCAC\",\n          \"CGCGGGGGAGGATCGTCTGCGTCGGTCGGACCGCCCTCGCCCCGCAACACTGTTCGCTAGTGTCTTCCATCTGCCGCCAGGGAGCGTGATGGCATGCGGG\"\n        ],\n        \"semantic_type\": \"\",\n        \"description\": \"\"\n      }\n    }\n  ]\n}"
            }
          },
          "metadata": {},
          "execution_count": 15
        }
      ]
    },
    {
      "cell_type": "code",
      "source": [
        "# TODO: complete the code\n",
        "# Extract DNA sequences and store them in a list\n",
        "DNAs = df['DNA']\n",
        "\n",
        "states = ['H', 'L']\n",
        "emissions = ['A', 'C', 'G', 'T']\n",
        "start_probabilities = [0.5, 0.5]\n",
        "transition_probabilities = [\n",
        "    [0.5, 0.5],  # from H to [H, L]\n",
        "    [0.4, 0.6]   # from L to [H, L]\n",
        "]\n",
        "emission_probabilities = [\n",
        "    [0.2, 0.3, 0.3, 0.2],  # H state emissions [A, C, G, T]\n",
        "    [0.3, 0.2, 0.2, 0.3]   # L state emissions [A, C, G, T]\n",
        "]\n",
        "\n",
        "hmm = HMM(states, emissions, start_probabilities, transition_probabilities, emission_probabilities)\n",
        "\n",
        "GC_content_seqs = []\n",
        "\n",
        "for seq in DNAs:\n",
        "  path, max_probability = hmm.viterbi(seq)\n",
        "  GC_content_seqs.append(path)"
      ],
      "metadata": {
        "id": "0983HNjhlDa1"
      },
      "execution_count": 16,
      "outputs": []
    },
    {
      "cell_type": "code",
      "source": [
        "# Assuming we have already computed the dictionaries DCM_prob, sex_prob, and blood_type_prob\n",
        "\n",
        "heart_disease_probabilities = []\n",
        "\n",
        "for seq in GC_content_seqs:\n",
        "    height_prob, weight_prob, blood_type_prob, DCM_prob = probabilities_from_sequence(seq)\n",
        "    sex_probabilities = calculate_sex_probability(height_prob, weight_prob)\n",
        "    hd_prob = calculate_heart_disease_probability(DCM_prob, sex_probabilities, blood_type_prob)\n",
        "    heart_disease_probabilities.append(hd_prob)\n",
        "\n",
        "heart_disease_classified = []\n",
        "\n",
        "for prob in heart_disease_probabilities:\n",
        "    if prob['Y'] > 0.5:\n",
        "        heart_disease_classified.append(1)\n",
        "    else:\n",
        "        heart_disease_classified.append(0)\n",
        "\n",
        "\n"
      ],
      "metadata": {
        "id": "-65oY4N5lqHk"
      },
      "execution_count": 17,
      "outputs": []
    },
    {
      "cell_type": "code",
      "source": [
        "# Write the result to CSV\n",
        "labels = [(i+1, heart_disease_classified[i]) for i in range(len(heart_disease_classified))]\n",
        "csv_filename = \"heart_disease_result.csv\"\n",
        "with open(csv_filename, mode='w', newline='') as file:\n",
        "    writer = csv.writer(file)\n",
        "    writer.writerow(['ID', 'Label'])\n",
        "    for id, label in labels:\n",
        "        writer.writerow([id, label])"
      ],
      "metadata": {
        "id": "GU9WNiH7W6y-"
      },
      "execution_count": 18,
      "outputs": []
    },
    {
      "cell_type": "markdown",
      "source": [
        "**Note: You should upload heart_disease_result.csv along side your notebook.**"
      ],
      "metadata": {
        "id": "w1nu_AHq1E4g"
      }
    }
  ]
}