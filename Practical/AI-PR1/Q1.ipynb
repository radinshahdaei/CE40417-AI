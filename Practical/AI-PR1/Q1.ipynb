{
  "cells": [
    {
      "cell_type": "markdown",
      "metadata": {
        "id": "FnYdQlO8CN_Q"
      },
      "source": [
        "\n",
        "<br>\n",
        "<font>\n",
        "<div dir=ltr align=center>\n",
        "<img src=\"https://cdn.freebiesupply.com/logos/large/2x/sharif-logo-png-transparent.png\" width=150 height=150> <br>\n",
        "<font color=0F5298 size=7>\n",
        "Artificial Intelligence <br>\n",
        "<font color=2565AE size=5>\n",
        "Computer Engineering Department <br>\n",
        "Spring 2024<br>\n",
        "<font color=3C99D size=5>\n",
        "Practical Assignment 1 - Local Search <br>\n",
        "<font color=696880 size=4>\n",
        "Ali Aghayari\n",
        "\n",
        "\n",
        "____"
      ]
    },
    {
      "cell_type": "markdown",
      "metadata": {
        "id": "UD9EheYEDULs"
      },
      "source": [
        "# Personal Data"
      ]
    },
    {
      "cell_type": "code",
      "execution_count": null,
      "metadata": {
        "id": "arQSEtxF_1fM"
      },
      "outputs": [
        {
          "ename": "",
          "evalue": "",
          "output_type": "error",
          "traceback": [
            "\u001b[1;31mRunning cells with '/opt/homebrew/bin/python3' requires the ipykernel package.\n",
            "\u001b[1;31mRun the following command to install 'ipykernel' into the Python environment. \n",
            "\u001b[1;31mCommand: '/opt/homebrew/bin/python3 -m pip install ipykernel -U --user --force-reinstall'"
          ]
        }
      ],
      "source": [
        "# Set your student number\n",
        "student_number = '401106096'\n",
        "Name = 'Radin'\n",
        "Last_Name = 'Shahdaei'"
      ]
    },
    {
      "cell_type": "markdown",
      "metadata": {
        "id": "tGdPKPpgDZNn"
      },
      "source": [
        "# Rules"
      ]
    },
    {
      "cell_type": "markdown",
      "metadata": {
        "id": "50N7EftzMgI3"
      },
      "source": [
        "<font color=red>\n",
        "Please run all the cells.\n",
        "</font>"
      ]
    },
    {
      "cell_type": "markdown",
      "metadata": {
        "id": "FUinwkjUMpE0"
      },
      "source": [
        "# Libraries"
      ]
    },
    {
      "cell_type": "code",
      "execution_count": null,
      "metadata": {
        "colab": {
          "base_uri": "https://localhost:8080/"
        },
        "id": "CYRGbz17MxTa",
        "outputId": "ed506707-850d-464a-9f95-63077b7e4392"
      },
      "outputs": [
        {
          "name": "stdout",
          "output_type": "stream",
          "text": [
            "Requirement already satisfied: tsp_solver2 in /usr/local/lib/python3.10/dist-packages (0.4.1)\n"
          ]
        }
      ],
      "source": [
        "!pip install tsp_solver2"
      ]
    },
    {
      "cell_type": "code",
      "execution_count": null,
      "metadata": {
        "id": "34CbvXksMqqU"
      },
      "outputs": [],
      "source": [
        "# import libraries here\n",
        "import matplotlib.pyplot as plt\n",
        "import numpy as np\n",
        "import math\n",
        "import random\n",
        "import time\n",
        "import itertools\n",
        "from tsp_solver.greedy import solve_tsp\n"
      ]
    },
    {
      "cell_type": "markdown",
      "metadata": {
        "id": "Mv8vAdgbDjEy"
      },
      "source": [
        "# Q1: TSP problem"
      ]
    },
    {
      "cell_type": "markdown",
      "metadata": {
        "id": "HBAHg-syDys0"
      },
      "source": [
        "## Problem Definition"
      ]
    },
    {
      "cell_type": "markdown",
      "metadata": {
        "id": "V5TcP1eKD0hN"
      },
      "source": [
        "Consider the Euclidean  [Traveling Salesperson Problem](https://en.wikipedia.org/wiki/Travelling_salesman_problem):</br>\n",
        "- In this problem, we are considering a country with n cities that are randomly placed; our country is a 1000 by 1000 square; we want to find the shortest tour for this country using their coordinates.\n",
        "- A tour is a cycle that passes each city precisely one time.\n",
        "- In this notebook we will develop some solutions to the problem, and more generally show how to think about solving a problem like this.\n",
        "\n"
      ]
    },
    {
      "cell_type": "markdown",
      "metadata": {
        "id": "FY0B88TpIZol"
      },
      "source": [
        "## Problem Representation (20 Points)"
      ]
    },
    {
      "cell_type": "markdown",
      "metadata": {
        "id": "N4_679fkPLNa"
      },
      "source": [
        " We want to create our problem structure and present some valuable methods in this part.\n",
        " - init: choose your problem structure and create the variables accordingly.\n",
        " - distance: take two cities and return the distance between them.\n",
        " - tour length: get a tour and return the length of the given tour.\n",
        " - The shortest tour: get a set of tours and return the shortest one.\n",
        " - plot tour: get a tour and plot tour of the country.\n",
        " - nearest_neighbor: get a semi-tour and return to the nearest city to the last element you have yet to visit."
      ]
    },
    {
      "cell_type": "code",
      "execution_count": null,
      "metadata": {
        "id": "y4QcHWXwIite"
      },
      "outputs": [],
      "source": [
        "class TSP:\n",
        "\n",
        "  def __init__(self, num_cities, cities = None):\n",
        "    if cities is None:\n",
        "        self.num_cities = num_cities\n",
        "        self.cities = np.random.randint(0, 1001, size=(num_cities, 2))\n",
        "    else:\n",
        "        self.num_cities = len(cities)\n",
        "        self.cities = cities\n",
        "\n",
        "  def distance(self, A, B):\n",
        "    return np.linalg.norm(self.cities[A] - self.cities[B])\n",
        "\n",
        "  def get_distances(self):\n",
        "    D_matrix = []\n",
        "    for i in range(self.num_cities):\n",
        "        row = []\n",
        "        for j in range(self.num_cities):\n",
        "            row.append(self.distance(i, j))\n",
        "        D_matrix.append(row)\n",
        "    return D_matrix\n",
        "\n",
        "\n",
        "  def tour_length(self, tour):\n",
        "    length = 0\n",
        "    for i in range(len(tour)):\n",
        "        length += self.distance(tour[i - 1], tour[i]) # Elementwise subtraction\n",
        "    return length\n",
        "\n",
        "  def shortest_tour(self, tours):\n",
        "    shortest_length = float('inf')\n",
        "    shortest_tour = None\n",
        "    for tour in tours:\n",
        "        length = self.tour_length(tour)\n",
        "        if length < shortest_length:\n",
        "            shortest_length = length\n",
        "            shortest_tour = tour\n",
        "    return shortest_tour, shortest_length\n",
        "\n",
        "  def plot_tour(self, tour, name = 'TSP tour'):\n",
        "    plt.figure(figsize=(5, 5))\n",
        "    plt.scatter(self.cities[:, 0], self.cities[:, 1], c='blue')\n",
        "    for i in range(len(tour)):\n",
        "        plt.plot([self.cities[tour[i - 1]][0], self.cities[tour[i]][0]],\n",
        "                 [self.cities[tour[i - 1]][1], self.cities[tour[i]][1]], c='red')\n",
        "    plt.grid(True)\n",
        "    plt.title(name)\n",
        "    plt.show()\n",
        "\n",
        "  def nearest_neighbor(self, A, cities, count = None):\n",
        "    if (count != None):\n",
        "      count = min(count, len(cities))\n",
        "    distances = [self.distance(A, i) for i in cities]\n",
        "    if count is None:\n",
        "        min_index = np.argmin(distances)\n",
        "        return cities[min_index]\n",
        "    else:\n",
        "        indices = np.argsort(distances)[:count]\n",
        "        return [cities[i] for i in indices]"
      ]
    },
    {
      "cell_type": "markdown",
      "metadata": {
        "id": "PcrljzjQEwSe"
      },
      "source": [
        "## Brute Force (5 Points)"
      ]
    },
    {
      "cell_type": "markdown",
      "metadata": {
        "id": "YABE0iE1G04m"
      },
      "source": [
        "Let's start with an algorithm that is guaranteed to solve the problem (although it is inefficient for large sets of cities) </br>\n",
        "we can achieve this by generating all possible tours of the cities and choosing the shortest tour (the one with minimum tour length)."
      ]
    },
    {
      "cell_type": "code",
      "execution_count": null,
      "metadata": {
        "id": "iWfAMjy_Ev-v"
      },
      "outputs": [],
      "source": [
        "def alltours_tsp(tsp):\n",
        "    cities_indices = list(range(1, tsp.num_cities))\n",
        "    all_subtours = itertools.permutations(cities_indices) # create all sub-permutations from 1 to num_cities\n",
        "    all_subtours = [list(tour) for tour in all_subtours]\n",
        "\n",
        "    for tour in all_subtours:\n",
        "        all_subtours.remove(list(reversed(tour)))         # remove the reverse of each permutation in sub-permutations\n",
        "\n",
        "    all_tours = [[0] + perm for perm in all_subtours]     # add 0 in front of all the sub-permutations\n",
        "                                                          # this way we don't create duplicates\n",
        "\n",
        "    shortest_tour, shortest_length = tsp.shortest_tour(all_tours)\n",
        "    return shortest_tour"
      ]
    },
    {
      "cell_type": "markdown",
      "metadata": {
        "id": "1wJCrx0mN5ig"
      },
      "source": [
        "Now, try to create a country with five cities and apply your brute force function to find the shortest tour."
      ]
    },
    {
      "cell_type": "code",
      "execution_count": null,
      "metadata": {
        "colab": {
          "base_uri": "https://localhost:8080/"
        },
        "id": "OiN20IIED0A1",
        "outputId": "7c3579cf-90cd-4f78-8672-19260a61170c"
      },
      "outputs": [
        {
          "name": "stdout",
          "output_type": "stream",
          "text": [
            "Shortest tour: [0, 1, 2, 3, 4]\n"
          ]
        }
      ],
      "source": [
        "country_tsp = TSP(num_cities=5)\n",
        "shortest_tour = alltours_tsp(country_tsp)\n",
        "print(\"Shortest tour:\", shortest_tour)"
      ]
    },
    {
      "cell_type": "markdown",
      "metadata": {
        "id": "QmuiPTuhU2Tj"
      },
      "source": [
        "Visualize your answer for the TSP problem"
      ]
    },
    {
      "cell_type": "code",
      "execution_count": null,
      "metadata": {
        "colab": {
          "base_uri": "https://localhost:8080/",
          "height": 468
        },
        "id": "uLAb7Px6C96O",
        "outputId": "a9df00bc-d7d6-44f9-a6b4-06696cb17b0c"
      },
      "outputs": [
        {
          "data": {
            "image/png": "[encoded data removed]",
            "text/plain": [
              "<Figure size 500x500 with 1 Axes>"
            ]
          },
          "metadata": {},
          "output_type": "display_data"
        }
      ],
      "source": [
        "country_tsp.plot_tour(shortest_tour)"
      ]
    },
    {
      "cell_type": "markdown",
      "metadata": {
        "id": "NXAaH-FyVPpd"
      },
      "source": [
        "\n",
        "\n",
        "Try this algorithm on countries with 4, 6, 8, and 10 cities and plot the time it takes to calculate the answer."
      ]
    },
    {
      "cell_type": "code",
      "execution_count": null,
      "metadata": {
        "id": "HpxEiGn5VPRs"
      },
      "outputs": [],
      "source": [
        "import time\n",
        "\n",
        "def run_algorithm_and_measure_time(tsp):\n",
        "    start_time = time.time()\n",
        "    alltours_tsp(tsp)\n",
        "    end_time = time.time()\n",
        "    return end_time - start_time\n",
        "\n",
        "def create_country_with_num_cities(num_cities):\n",
        "    return TSP(num_cities=num_cities)\n",
        "\n",
        "num_cities_list = [4, 6, 8, 10]\n",
        "\n",
        "runtimes = []\n",
        "for num_cities in num_cities_list:\n",
        "    country_tsp = create_country_with_num_cities(num_cities)\n",
        "    runtime = run_algorithm_and_measure_time(country_tsp)\n",
        "    runtimes.append(runtime)\n",
        "\n",
        "plt.figure(figsize=(5, 5))\n",
        "plt.plot(num_cities_list, np.log(runtimes), marker='o', linestyle='-', color='b')\n",
        "plt.title('Runtime of TSP Algorithm')\n",
        "plt.xlabel('Number of Cities')\n",
        "plt.ylabel('Logarithm of Runtime (s)')\n",
        "plt.grid(True)\n",
        "plt.show()\n",
        "\n",
        "print(runtimes)"
      ]
    },
    {
      "cell_type": "markdown",
      "metadata": {
        "id": "0duAtHtq99Jc"
      },
      "source": [
        "## local Algorithms"
      ]
    },
    {
      "cell_type": "markdown",
      "metadata": {
        "id": "wk6vvU7t-xUJ"
      },
      "source": [
        "### Initial Functions (25 Points)"
      ]
    },
    {
      "cell_type": "markdown",
      "metadata": {
        "id": "AKioDXkfArl0"
      },
      "source": [
        "We will create some functions for our initial state and use these functions for our local algorithms later."
      ]
    },
    {
      "cell_type": "markdown",
      "metadata": {
        "id": "oDhjijlNBCeq"
      },
      "source": [
        "- random initial function: Create a feasible tour randomly."
      ]
    },
    {
      "cell_type": "code",
      "execution_count": null,
      "metadata": {
        "id": "--ubxhZRAz0w"
      },
      "outputs": [],
      "source": [
        "def random_initial(tsp):\n",
        "    tour = list(range(tsp.num_cities))\n",
        "    random.shuffle(tour)\n",
        "    length = tsp.tour_length(tour)\n",
        "    return tour, length"
      ]
    },
    {
      "cell_type": "markdown",
      "metadata": {
        "id": "KH_uYJDlBVZY"
      },
      "source": [
        "- nearest neighbor initial function: Start at any city; at each step, extend the tour by moving from the previous city to its nearest neighbor that has yet to be visited."
      ]
    },
    {
      "cell_type": "code",
      "execution_count": null,
      "metadata": {
        "id": "034rnKObArXR"
      },
      "outputs": [],
      "source": [
        "def nearest_neighbor_initial(tsp):\n",
        "    cities = list(range(tsp.num_cities))\n",
        "    start_city = random.choice(cities)\n",
        "    tour = [start_city]\n",
        "    cities.remove(start_city)\n",
        "\n",
        "    while cities:\n",
        "        current_city = tour[-1]\n",
        "        nearest_neighbor = tsp.nearest_neighbor(current_city, cities)\n",
        "        tour.append(nearest_neighbor)\n",
        "        cities.remove(nearest_neighbor)\n",
        "\n",
        "    length = tsp.tour_length(tour)\n",
        "    return tuple(tour), length"
      ]
    },
    {
      "cell_type": "markdown",
      "metadata": {
        "id": "2JdhHbUeJ4M9"
      },
      "source": [
        "- repeated nearest neighbor initial function : You can improve nearest neighbor algorithm by running it multiple times with different starting cities and using the best-generated answer."
      ]
    },
    {
      "cell_type": "code",
      "execution_count": null,
      "metadata": {
        "id": "89Z-AS78J4mU"
      },
      "outputs": [],
      "source": [
        "def repeated_nearest_neighbor_initial(tsp, repetitions = None):\n",
        "    if repetitions is None:\n",
        "        repetitions = tsp.num_cities\n",
        "    best_tour = None\n",
        "    best_length = float('inf')\n",
        "    for _ in range(repetitions):\n",
        "        tour, length = nearest_neighbor_initial(tsp)\n",
        "        if length < best_length:\n",
        "            best_length = length\n",
        "            best_tour = tour\n",
        "    return best_tour, best_length"
      ]
    },
    {
      "cell_type": "markdown",
      "metadata": {
        "id": "FqUkJEmzh3Ec"
      },
      "source": [
        "Now, try to create a country with 30 cities, apply your repeated_nearest_neighbor_initial function with repetitions of 1, 4, 8, 12, and compare the results."
      ]
    },
    {
      "cell_type": "code",
      "execution_count": null,
      "metadata": {
        "id": "3RVEYAQ3h24k"
      },
      "outputs": [],
      "source": [
        "country_tsp = TSP(num_cities = 30)\n",
        "iterations = [1, 4, 8, 12]\n",
        "tour_lengths = []\n",
        "for iter in iterations:\n",
        "    tour, length = repeated_nearest_neighbor_initial(country_tsp, iter)\n",
        "    tour_lengths.append(length)\n",
        "\n",
        "plt.figure(figsize=(5, 5))\n",
        "plt.plot(iterations, tour_lengths, marker='o', linestyle='-', linewidth=1)\n",
        "plt.xlabel('iterations')\n",
        "plt.grid(True)\n",
        "plt.show()\n",
        "\n",
        "country_tsp.plot_tour(tour) # To show it's not optimal for 30 iterations"
      ]
    },
    {
      "cell_type": "markdown",
      "metadata": {
        "id": "LnRO5lIAi_lK"
      },
      "source": [
        "Does repetition make our answer optimal? No."
      ]
    },
    {
      "cell_type": "markdown",
      "metadata": {
        "id": "qlmu5P6iB-qO"
      },
      "source": [
        "- beam search initial function: Start with a list of n cities; at each step, extend your semi-tours by moving from their previous cities to their n nearest neighbors and then pick out n semi-tours from these generated semi-tours of length i+1"
      ]
    },
    {
      "cell_type": "code",
      "execution_count": null,
      "metadata": {
        "id": "qOmO82E_HvLF"
      },
      "outputs": [],
      "source": [
        "def beam_search_initial(tsp, n, iters):\n",
        "  queue = [[city] for city in random.sample(range(tsp.num_cities), n)]\n",
        "  all_cities = list(range(tsp.num_cities))\n",
        "\n",
        "  for iter in range(iters):\n",
        "    if iter + 1 < tsp.num_cities: # updating the semi-tours\n",
        "        for i in range(n):\n",
        "            semi_tour = queue[i]\n",
        "            cities_to_check = [x for x in all_cities if x not in semi_tour]\n",
        "            nearest_cities = tsp.nearest_neighbor(semi_tour[iter], cities_to_check, n)\n",
        "            for nearest_city in nearest_cities:\n",
        "                queue.append(semi_tour + [nearest_city])\n",
        "        queue = queue[n:]\n",
        "\n",
        "    else: # mutation by random swapping\n",
        "        for i in range(n):\n",
        "          semi_tour = queue[i]\n",
        "          for j in range(n):\n",
        "            temp_tour = semi_tour[:]\n",
        "            idx1 = random.randint(0, tsp.num_cities - 1)\n",
        "            idx2 = random.randint(0, tsp.num_cities - 1)\n",
        "            temp_tour[idx1], temp_tour[idx2] = temp_tour[idx2], temp_tour[idx1]\n",
        "\n",
        "            queue.append(temp_tour)\n",
        "    queue = sorted(queue, key=tsp.tour_length)[:n]\n",
        "\n",
        "  return queue[0], tsp.tour_length(queue[0])"
      ]
    },
    {
      "cell_type": "markdown",
      "metadata": {
        "id": "b41qMNOAH2UE"
      },
      "source": [
        "Now, try to create a country with 30 cities, apply these initial functions, and compare the tour length of these initial tours with each other and the optimal answer (if city_num is low)."
      ]
    },
    {
      "cell_type": "code",
      "execution_count": null,
      "metadata": {
        "id": "AQYdWjeL-w0V"
      },
      "outputs": [],
      "source": [
        "country_tsp = TSP(num_cities = 30)\n",
        "random_tour = random.sample(range(30), 30)\n",
        "random_length = country_tsp.tour_length(random_tour)\n",
        "nn_tour, nn_length = nearest_neighbor_initial(country_tsp)\n",
        "rnn_tour, rnn_length = repeated_nearest_neighbor_initial(country_tsp, 10)\n",
        "beam_tour, beam_length = beam_search_initial(country_tsp, 5, 100)\n",
        "\n",
        "print(\"random_initial length:\" , random_length)\n",
        "print(\"nearest_neighbor_initial length:\" , nn_length)\n",
        "print(\"repeated_nearest_neighbor_initial length:\" , rnn_length)\n",
        "print(\"beam_search_initial length:\" , beam_length)"
      ]
    },
    {
      "cell_type": "markdown",
      "metadata": {
        "id": "2s1RwXZAIpqM"
      },
      "source": [
        "Plot these tours and compare them visually."
      ]
    },
    {
      "cell_type": "code",
      "execution_count": null,
      "metadata": {
        "id": "H76VcV9n6KLj"
      },
      "outputs": [],
      "source": [
        "country_tsp.plot_tour(random_tour)"
      ]
    },
    {
      "cell_type": "code",
      "execution_count": null,
      "metadata": {
        "id": "vWqApgwSdKe7"
      },
      "outputs": [],
      "source": [
        "country_tsp.plot_tour(nn_tour)"
      ]
    },
    {
      "cell_type": "code",
      "execution_count": null,
      "metadata": {
        "id": "tzOzhW0RdMPy"
      },
      "outputs": [],
      "source": [
        "country_tsp.plot_tour(rnn_tour)"
      ]
    },
    {
      "cell_type": "code",
      "execution_count": null,
      "metadata": {
        "id": "3PeV8RAxdNz0"
      },
      "outputs": [],
      "source": [
        "country_tsp.plot_tour(beam_tour)"
      ]
    },
    {
      "cell_type": "markdown",
      "metadata": {
        "id": "R6X7G-9bq5gd"
      },
      "source": [
        "### LKH (25 Points)"
      ]
    },
    {
      "cell_type": "markdown",
      "metadata": {
        "id": "nvRYJmco9TAG"
      },
      "source": [
        "Implement a simplified version of [LKH](https://www.google.com/url?sa=t&rct=j&q=&esrc=s&source=web&cd=&cad=rja&uact=8&ved=2ahUKEwimj7nFoqCEAxWzh_0HHc98Df4QFnoECCQQAQ&url=https%3A%2F%2Fen.wikipedia.org%2Fwiki%2FLin%25E2%2580%2593Kernighan_heuristic&usg=AOvVaw0G05-wkkun1YAp6zPfWuLd&opi=89978449) for this problem.</br>\n",
        "- This local search algorithm takes the initial state and improves it over time by swapping a part of the tour sequence.\n",
        "- In this modified version, we will check every (i,j) pair at each iteration and reverse the tour from index \"I\" to index \"J\" if it improves our tour.\n"
      ]
    },
    {
      "cell_type": "code",
      "execution_count": null,
      "metadata": {
        "id": "vqniF8-AAd36"
      },
      "outputs": [],
      "source": [
        "def lin_kernighan(tsp, initial, iterations=10):\n",
        "    num = len(initial)\n",
        "\n",
        "    for iter in range(iterations):\n",
        "        queue = [initial]\n",
        "        for i in range(num):\n",
        "            for j in range(num):\n",
        "                temp_tour = list(initial[:])\n",
        "                temp_tour[i], temp_tour[j] = temp_tour[j], temp_tour[i]\n",
        "                queue.append(temp_tour)\n",
        "        initial = sorted(queue, key=tsp.tour_length)[0]\n",
        "\n",
        "    return initial, tsp.tour_length(initial)\n"
      ]
    },
    {
      "cell_type": "markdown",
      "metadata": {
        "id": "OjxWClPiCmsy"
      },
      "source": [
        "Run this algorithm on a reasonably big country and visualize it.</br>\n",
        "You can use any initial state in this part."
      ]
    },
    {
      "cell_type": "code",
      "execution_count": null,
      "metadata": {
        "id": "fBlLhU9XdSwq"
      },
      "outputs": [],
      "source": [
        "country_tsp = TSP(num_cities = 30)\n",
        "nn_tour, nn_length = nearest_neighbor_initial(country_tsp) # greedy to create inital tour\n",
        "lkh_tour, lkh_length = lin_kernighan(country_tsp, nn_tour, 100) # lkh from greedy with 100 iterations\n",
        "country_tsp.plot_tour(lkh_tour)\n",
        "print(\"Improvement: {:.2f}%\".format(nn_length / lkh_length * 100 - 100))  # show improvement from greedy approach"
      ]
    },
    {
      "cell_type": "markdown",
      "metadata": {
        "id": "kpqi6hFEiym_"
      },
      "source": [
        "### Simulated Annealing (25 Points)"
      ]
    },
    {
      "cell_type": "markdown",
      "metadata": {
        "id": "UeRio5Wnuuha"
      },
      "source": [
        "Implement simulated annealing for this problem."
      ]
    },
    {
      "cell_type": "code",
      "execution_count": null,
      "metadata": {
        "id": "U7k_anLax5ur"
      },
      "outputs": [],
      "source": [
        "def get_neighbour(tour):\n",
        "    i, j = random.sample(range(len(tour)), 2)\n",
        "    start, end = min(i, j), max(i, j)\n",
        "    neighbor_tour = tour[:start] + tour[start:end][::-1] + tour[end:]\n",
        "    return neighbor_tour\n",
        "\n",
        "def accept(delta, temp):\n",
        "    if delta < 0:\n",
        "        return 1.0\n",
        "    return math.exp(-delta / temp)\n",
        "\n",
        "def simulated_annealing(tsp, initial, initial_temperature=1000, cooling_rate=0.999, iterations=10000):\n",
        "\n",
        "    temp = initial_temperature\n",
        "\n",
        "    for iter in range(iterations):\n",
        "        neighbour_tour = get_neighbour(initial)\n",
        "        delta = tsp.tour_length(neighbour_tour) - tsp.tour_length(initial)\n",
        "        if random.random() < accept(delta, temp):\n",
        "            initial = neighbour_tour[:]\n",
        "        temp *= cooling_rate\n",
        "\n",
        "    return initial, tsp.tour_length(initial)"
      ]
    },
    {
      "cell_type": "markdown",
      "metadata": {
        "id": "_vwaM4ox5S7A"
      },
      "source": [
        "Run this algorithm on a reasonably big country and visualize it.</br>\n",
        "You can use any initial state in this part."
      ]
    },
    {
      "cell_type": "code",
      "execution_count": null,
      "metadata": {
        "id": "pxQZNx9xdbbP"
      },
      "outputs": [],
      "source": [
        "country_tsp = TSP(num_cities = 30)\n",
        "nn_tour, nn_length = nearest_neighbor_initial(country_tsp) # greedy to create inital tour\n",
        "sa_tour, sa_length = simulated_annealing(country_tsp, nn_tour) # SA from greedy with 10000 iterations\n",
        "country_tsp.plot_tour(sa_tour)\n",
        "print(\"Improvement: {:.2f}%\".format(nn_length / sa_length * 100 - 100)) # show improvement from greedy approach"
      ]
    },
    {
      "cell_type": "markdown",
      "metadata": {
        "id": "8f05Yb2H-BFn"
      },
      "source": [
        "### Analysis"
      ]
    },
    {
      "cell_type": "markdown",
      "metadata": {
        "id": "eVrerPWeBhwb"
      },
      "source": [
        "- The given code can calculate an acceptable approximated answer.\n",
        "- use this code to compare your algorithms."
      ]
    },
    {
      "cell_type": "code",
      "execution_count": null,
      "metadata": {
        "id": "ADXq5aGxB3xL"
      },
      "outputs": [],
      "source": [
        "country_tsp = TSP(num_cities = 30)\n",
        "path = solve_tsp(country_tsp.get_distances())\n",
        "country_tsp.plot_tour(path)\n",
        "print(country_tsp.tour_length(path))"
      ]
    },
    {
      "cell_type": "markdown",
      "metadata": {
        "id": "Wr9xaCmfAifi"
      },
      "source": [
        "- analyze the lengths you get from the two algorithms with different initial functions\n",
        "- plot these tours and explain the results (results may be inconsistent as they are approximations)"
      ]
    },
    {
      "cell_type": "code",
      "execution_count": null,
      "metadata": {
        "id": "gqrW--cLAiO6"
      },
      "outputs": [],
      "source": [
        "country_tsp = TSP(num_cities = 30)\n",
        "path = solve_tsp(country_tsp.get_distances())\n",
        "threshhold = country_tsp.tour_length(path) # create threshhold using tsp_solver algorithm\n",
        "\n",
        "random_tour = random.sample(range(30), 30) # creating different initials for LKH and SA algorithms\n",
        "random_length = country_tsp.tour_length(random_tour)\n",
        "nn_tour, nn_length = nearest_neighbor_initial(country_tsp)\n",
        "rnn_tour, rnn_length = repeated_nearest_neighbor_initial(country_tsp, 10)\n",
        "beam_tour, beam_length = beam_search_initial(country_tsp, 5, 100)\n",
        "\n",
        "lkh_tour_random, lkh_length_random = lin_kernighan(country_tsp, random_tour[:], 100) # lkh using different initial tours\n",
        "lkh_tour_nn, lkh_length_nn = lin_kernighan(country_tsp, nn_tour[:], 100)\n",
        "lkh_tour_rnn, lkh_length_rnn = lin_kernighan(country_tsp, rnn_tour[:], 100)\n",
        "lkh_tour_beam, lkh_length_beam = lin_kernighan(country_tsp, beam_tour[:], 100)\n",
        "\n",
        "sa_tour_random, sa_length_random = simulated_annealing(country_tsp, random_tour[:])  # SA using different initial tours\n",
        "sa_tour_nn, sa_length_nn = simulated_annealing(country_tsp, nn_tour[:])\n",
        "sa_tour_rnn, sa_length_rnn = simulated_annealing(country_tsp, rnn_tour[:])\n",
        "sa_tour_beam, sa_length_beam = simulated_annealing(country_tsp, beam_tour[:])"
      ]
    },
    {
      "cell_type": "code",
      "execution_count": null,
      "metadata": {
        "id": "0PLQ1egWRCfd"
      },
      "outputs": [],
      "source": [
        "def create_plot(name, initial, lkh, sa, threshhold):\n",
        "    methods = [name, 'Lin Kernighan', 'Simulated Annealing', 'Threshhold']\n",
        "    values = [initial, lkh, sa, threshhold]\n",
        "\n",
        "\n",
        "    plt.figure(figsize=(10, 6))\n",
        "    plt.bar(methods, values, width=0.4)\n",
        "\n",
        "    plt.title('Comparison of TSP Methods')\n",
        "    plt.show()\n",
        "\n",
        "    lkh_improvement = initial / lkh * 100 - 100\n",
        "    sa_improvement = initial / sa * 100 - 100\n",
        "    print(\"LKH Improvement: {:.2f}%\".format(lkh_improvement))\n",
        "    print(\"SA Improvement: {:.2f}%\".format(sa_improvement))\n",
        "\n",
        "create_plot(\"Random\", random_length, lkh_length_random, sa_length_random, threshhold)\n",
        "create_plot(\"Nearest Neighbour\", nn_length, lkh_length_nn, sa_length_nn, threshhold)\n",
        "create_plot(\"Repeated Nearest Neighbout\", rnn_length, lkh_length_rnn, sa_length_rnn, threshhold)\n",
        "create_plot(\"Beam Search\", beam_length, lkh_length_beam, sa_length_beam, threshhold)"
      ]
    },
    {
      "cell_type": "code",
      "execution_count": null,
      "metadata": {
        "id": "sZds5xIGTK0P"
      },
      "outputs": [],
      "source": []
    }
  ],
  "metadata": {
    "colab": {
      "provenance": []
    },
    "kernelspec": {
      "display_name": "Python 3",
      "name": "python3"
    },
    "language_info": {
      "name": "python",
      "version": "3.12.2"
    }
  },
  "nbformat": 4,
  "nbformat_minor": 0
}
