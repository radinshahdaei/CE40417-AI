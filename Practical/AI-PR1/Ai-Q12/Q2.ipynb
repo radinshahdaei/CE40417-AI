{
  "cells": [
    {
      "cell_type": "markdown",
      "id": "fa2f6537113e5fc2",
      "metadata": {
        "collapsed": false,
        "id": "fa2f6537113e5fc2"
      },
      "source": [
        "\n",
        "<br>\n",
        "<font>\n",
        "<div dir=ltr align=center>\n",
        "<img src=\"https://cdn.freebiesupply.com/logos/large/2x/sharif-logo-png-transparent.png\" width=150 height=150> <br>\n",
        "<font color=0F5298 size=7>\n",
        "Artificial Intelligence <br>\n",
        "<font color=2565AE size=5>\n",
        "Computer Engineering Department <br>\n",
        "Spring 2024<br>\n",
        "<font color=3C99D size=5>\n",
        "Practical Assignment 1 - Search Algorithms <br>\n",
        "<font color=696880 size=4>\n",
        "Amir Mohammad Fakhimi\n",
        "\n",
        "\n",
        "____"
      ]
    },
    {
      "cell_type": "markdown",
      "id": "a3f5bd2d-4b6c-4682-99a8-55d9c9164561",
      "metadata": {
        "id": "a3f5bd2d-4b6c-4682-99a8-55d9c9164561"
      },
      "source": [
        "# Personal Data"
      ]
    },
    {
      "cell_type": "code",
      "execution_count": null,
      "id": "6600fbd1-6f48-4f02-971e-6aee32c82d0c",
      "metadata": {
        "ExecuteTime": {
          "end_time": "2024-02-16T12:59:46.745724Z",
          "start_time": "2024-02-16T12:59:46.722567Z"
        },
        "id": "6600fbd1-6f48-4f02-971e-6aee32c82d0c"
      },
      "outputs": [],
      "source": [
        "# Set your student number and name\n",
        "student_number = '401106096'\n",
        "Name = 'Radin'\n",
        "Last_Name = 'Shahdaei'"
      ]
    },
    {
      "cell_type": "markdown",
      "id": "39400a82-6b02-4f38-b6b5-230885ea26fa",
      "metadata": {
        "id": "39400a82-6b02-4f38-b6b5-230885ea26fa"
      },
      "source": [
        "# Rules"
      ]
    },
    {
      "cell_type": "markdown",
      "id": "adb839db-ff96-43bc-954a-3582b536f6d2",
      "metadata": {
        "id": "adb839db-ff96-43bc-954a-3582b536f6d2"
      },
      "source": [
        "<font color=red>\n",
        "Please run all the cells.\n",
        "</font>"
      ]
    },
    {
      "cell_type": "markdown",
      "id": "d0f958d0-5146-4aa1-b691-b8e610d7d39a",
      "metadata": {
        "id": "d0f958d0-5146-4aa1-b691-b8e610d7d39a"
      },
      "source": [
        "# Libraries"
      ]
    },
    {
      "cell_type": "code",
      "execution_count": null,
      "id": "d972b52ea18facd5",
      "metadata": {
        "ExecuteTime": {
          "end_time": "2024-02-16T12:59:52.340311Z",
          "start_time": "2024-02-16T12:59:46.844041Z"
        },
        "id": "d972b52ea18facd5"
      },
      "outputs": [],
      "source": [
        "# import libraries here\n",
        "\n",
        "from abc import abstractmethod\n",
        "import numpy as np\n",
        "from numpy import random\n",
        "import pandas as pd\n",
        "from collections import deque"
      ]
    },
    {
      "cell_type": "markdown",
      "id": "2087151a-2cba-42cb-a9b9-a40068f3bfb8",
      "metadata": {
        "id": "2087151a-2cba-42cb-a9b9-a40068f3bfb8"
      },
      "source": [
        "# Q1: Uninformed Search (DFS, BFS, IDS, A*) (100 Points)"
      ]
    },
    {
      "cell_type": "markdown",
      "id": "6197a1748c274030",
      "metadata": {
        "collapsed": false,
        "id": "6197a1748c274030"
      },
      "source": [
        "In this jupyter notebook, we aim to implement four uninformed search algorithms: DFS, BFS, IDS, and A*. We also implement a maze class to test the algorithms."
      ]
    },
    {
      "cell_type": "markdown",
      "id": "dd23e885-3497-49f9-aff6-7189de4890a7",
      "metadata": {
        "id": "dd23e885-3497-49f9-aff6-7189de4890a7"
      },
      "source": [
        "## Tile\n",
        "Each tile is one maze's square. Each part has a (x, y) coordinate. Also it has g (the cost until now), h (heuristic) and f (sum of g and h)."
      ]
    },
    {
      "cell_type": "code",
      "execution_count": null,
      "id": "initial_id",
      "metadata": {
        "ExecuteTime": {
          "end_time": "2024-02-16T12:59:52.354919Z",
          "start_time": "2024-02-16T12:59:52.345655Z"
        },
        "id": "initial_id"
      },
      "outputs": [],
      "source": [
        "class Tile:\n",
        "    def __init__(self, x, y):\n",
        "        self.x = x\n",
        "        self.y = y\n",
        "\n",
        "        self.g = 0\n",
        "        self.h = 0\n",
        "        self.f = 0\n",
        "\n",
        "        self.parent = None\n",
        "\n",
        "    def __eq__(self, other):\n",
        "        return self.x == other.x and self.y == other.y\n",
        "\n",
        "    def __repr__(self):\n",
        "        return f'({self.x}, {self.y})'"
      ]
    },
    {
      "cell_type": "markdown",
      "id": "cfc3820a-111f-437e-9ee3-a2ca54ad8cfb",
      "metadata": {
        "id": "cfc3820a-111f-437e-9ee3-a2ca54ad8cfb"
      },
      "source": [
        "## Maze\n",
        "It has a map attribute. It's a 2d array of a string type. Each index is one of the following strings:\n",
        "- '0': A free index which the agent can move to.\n",
        "- '1': A wall which the agent can't move to.\n",
        "- 'S': The start point of the agent.\n",
        "- 'E': The end point of the agent.\n",
        "- 'V': The tiles that the agent has visited. It is used in the [visualizer website](https://project.amfakhimi.com/maze-visualizer), not in this jupyter notebook.\n",
        "- 'P': The path that the agent has moved through. It appears after the agent has found the path in the `print_path` function of the `Algorithm` class.\n",
        "\n",
        "It has three types of initialization:\n",
        "- a tuple (a, b): a is the height of the map, and b is the width of the map. It generates a random map with 80% of '0' and 20% of '1' and sets the start and end points randomly. It is suggested to use it after setting the `random.seed` to a constant number.\n",
        "- a string: the path of a csv file which contains the map. You can export your customized map from [here](https://project.amfakhimi.com/maze-visualizer).\n",
        "- a list or a numpy array: the map itself. It should have 'S' and 'E' in it.\n",
        "\n",
        "The most important methods are:\n",
        "- `get_tile`: It returns the value of the tile in the given (x, y) coordinate. Pay attention that the first index is y and the second one is x.\n",
        "- `export_map`: It exports the map to a csv file. You don't need to use it in this assignment.\n",
        "- `print_map`: It prints the map in the console to visualize it.\n",
        "\n",
        "You can create your own map [here](https://project.amfakhimi.com/maze-visualizer).  Before exporting the map, clear the map, first."
      ]
    },
    {
      "cell_type": "code",
      "execution_count": null,
      "id": "7fdb851d-71d0-4d34-b24e-1c0a254d4f1c",
      "metadata": {
        "ExecuteTime": {
          "end_time": "2024-02-16T12:59:52.390893Z",
          "start_time": "2024-02-16T12:59:52.359838Z"
        },
        "id": "7fdb851d-71d0-4d34-b24e-1c0a254d4f1c"
      },
      "outputs": [],
      "source": [
        "class Maze:\n",
        "    def __init__(self, map, name):\n",
        "        self.name = name\n",
        "\n",
        "        if type(map) == tuple:\n",
        "            self.height = map[0]\n",
        "            self.width = map[1]\n",
        "            self.map = np.zeros((self.height, self.width), dtype=str)\n",
        "            self.start = Tile(0, 0)\n",
        "            self.end = Tile(self.width - 1, self.height - 1)\n",
        "\n",
        "            for y in range(self.height):\n",
        "                for x in range(self.width):\n",
        "                    if x == self.start.x and y == self.start.y:\n",
        "                        self.map[y][x] = 'S'\n",
        "                    elif x == self.end.x and y == self.end.y:\n",
        "                        self.map[y][x] = 'E'\n",
        "                    else:\n",
        "                        self.map[y][x] = random.choice(['0', '1'], p=[0.8, 0.2])\n",
        "\n",
        "        elif type(map) == str:\n",
        "            map_csv = pd.read_csv(map, header=None, dtype=str)\n",
        "            self.map = map_csv.values\n",
        "            for y, row in enumerate(self.map):\n",
        "                for x, char in enumerate(row):\n",
        "                    if char == 'V' or char == 'P':\n",
        "                        self.map[y][x] = '0'\n",
        "\n",
        "        elif type(map) == list or type(map) == np.ndarray:\n",
        "            self.map = np.array(map)\n",
        "        else:\n",
        "            raise ValueError('Invalid map type')\n",
        "\n",
        "        self.width = len(self.map[0])\n",
        "        self.height = len(self.map)\n",
        "        self.initial_map = map\n",
        "\n",
        "        self.start = None\n",
        "        self.end = None\n",
        "        for y, row in enumerate(self.map):\n",
        "            for x, char in enumerate(row):\n",
        "                if char == 'S':\n",
        "                    self.start = Tile(x, y)\n",
        "                elif char == 'E':\n",
        "                    self.end = Tile(x, y)\n",
        "\n",
        "        if self.start is None or self.end is None:\n",
        "            raise ValueError('Map must contain a start and end point')\n",
        "\n",
        "    def set_tile(self, x, y, value):\n",
        "        if value != 'S' and value != 'E' and value != 'P' and value != '0' and value != '1':\n",
        "            raise ValueError('Invalid tile value')\n",
        "\n",
        "        self.map[y][x] = value\n",
        "\n",
        "    def get_tile(self, x, y):\n",
        "        return self.map[y][x]\n",
        "\n",
        "    def export_map(self, file_path):\n",
        "        csv = pd.DataFrame(self.map)\n",
        "        if file_path is not None:\n",
        "            csv.to_csv(file_path, index=False, header=False)\n",
        "\n",
        "        return csv\n",
        "\n",
        "    def print_map(self):\n",
        "        for row in self.map:\n",
        "            print(''.join([str(x) for x in row]))"
      ]
    },
    {
      "cell_type": "markdown",
      "id": "16845222f4274529",
      "metadata": {
        "collapsed": false,
        "id": "16845222f4274529"
      },
      "source": [
        "## Algorithms (DFS, BFS, IDS, A*) (80 Points)\n",
        "It has the following attributes:\n",
        "- `maze`: The maze object.\n",
        "- `open_list`: A list of tiles that are not visited yet and we get the tile with lowest f by iterating through it.\n",
        "- `closed_list`: A list of tiles that are visited.\n",
        "- `path`: The path that the agent has found.\n",
        "\n",
        "The most important methods are:\n",
        "- `get_neighbors` (You should implement it -> 10 points): It returns the neighbors of the given tile.\n",
        "- `solve` (You should implement it -> 70 points): It solves the maze. You should use and fill the `open_list` and `closed_list` and `path` attributes. You should also determine if there's no path to the end point. It is an abstract method, and you should implement it in the subclasses. DFS has 10 points, BFS has 10 points, IDS has 20 points, and A* has 30 points. It has 70 points in total.\n",
        "- `print_path`: It prints the map with the path that the agent has found.\n",
        "- `export_closed_list`: It exports the closed list to a csv file. You don't need to use it in this assignment directly.\n",
        "- `export_path`: It exports the path to a csv file. You don't need to use it in this assignment directly.\n",
        "\n",
        "You should implement the `get_neighbors` in `Algorithm` class and `solve` in the subclasses (DFS, BFS, IDS, A*). You are free to add any other methods or attributes to the classes. (10 + 70 = 80 points)"
      ]
    },
    {
      "cell_type": "code",
      "execution_count": null,
      "id": "e095ada2c9d16e05",
      "metadata": {
        "ExecuteTime": {
          "end_time": "2024-02-16T12:59:52.424928Z",
          "start_time": "2024-02-16T12:59:52.399328Z"
        },
        "id": "e095ada2c9d16e05"
      },
      "outputs": [],
      "source": [
        "class Algorithm:\n",
        "    def __init__(self, maze):\n",
        "        self.maze = maze\n",
        "        self.open_list = []\n",
        "        self.closed_list = []\n",
        "        self.path = []\n",
        "\n",
        "    def get_neighbors(self, tile):\n",
        "        neighbors = []\n",
        "        directions = [(0, 1), (0, -1), (1, 0), (-1, 0)]\n",
        "\n",
        "        for dx, dy in directions:\n",
        "            neighbor_x = tile.x + dx\n",
        "            neighbor_y = tile.y + dy\n",
        "\n",
        "            if 0 <= neighbor_x < self.maze.width and 0 <= neighbor_y < self.maze.height:\n",
        "                neighbor_tile = Tile(neighbor_x, neighbor_y)\n",
        "                neighbors.append(neighbor_tile)\n",
        "\n",
        "        return neighbors\n",
        "\n",
        "    def get_tile_from_list(self, tile, tile_list):\n",
        "        for t in tile_list:\n",
        "            if t == tile:\n",
        "                return t\n",
        "\n",
        "        return None\n",
        "\n",
        "    def get_tile_from_open_list(self, tile):\n",
        "        return self.get_tile_from_list(tile, self.open_list)\n",
        "\n",
        "    def get_tile_from_closed_list(self, tile):\n",
        "        return self.get_tile_from_list(tile, self.closed_list)\n",
        "\n",
        "    def is_tile_in_list(self, tile, tile_list):\n",
        "        for t in tile_list:\n",
        "            if t == tile:\n",
        "                return True\n",
        "        return False\n",
        "\n",
        "    def is_tile_in_open_list(self, tile):\n",
        "        return self.is_tile_in_list(tile, self.open_list)\n",
        "\n",
        "    def is_tile_in_closed_list(self, tile):\n",
        "        return self.is_tile_in_list(tile, self.closed_list)\n",
        "\n",
        "    def is_tile_walkable(self, tile):\n",
        "        return self.maze.get_tile(tile.x, tile.y) != '1'\n",
        "\n",
        "    @abstractmethod\n",
        "    def solve(self):\n",
        "        pass\n",
        "\n",
        "    def print_path(self, path):\n",
        "        if path is None:\n",
        "            print('No path found')\n",
        "            return\n",
        "\n",
        "        for y, row in enumerate(self.maze.map):\n",
        "            for x, char in enumerate(row):\n",
        "                if Tile(x, y) in path and char != 'S' and char != 'E':\n",
        "                    print('P', end='')\n",
        "                else:\n",
        "                    print(char, end='')\n",
        "            print()\n",
        "\n",
        "    def export_closed_list(self, file_path):\n",
        "        closed_list = [[]]\n",
        "        for tile in self.closed_list:\n",
        "            closed_list[0].append(tile.x)\n",
        "            closed_list[0].append(tile.y)\n",
        "\n",
        "        csv = pd.DataFrame(closed_list)\n",
        "        if file_path is not None:\n",
        "            csv.to_csv(file_path, index=False, header=False)\n",
        "\n",
        "        return csv\n",
        "\n",
        "    def export_path(self, file_path):\n",
        "        path = [[]]\n",
        "        for tile in self.path:\n",
        "            path[0].append(tile.x)\n",
        "            path[0].append(tile.y)\n",
        "\n",
        "        csv = pd.DataFrame(path)\n",
        "        if file_path is not None:\n",
        "            csv.to_csv(file_path, index=False, header=False)\n",
        "        return csv\n",
        "\n",
        "    def construct_path(self, end_tile):\n",
        "        self.path = []\n",
        "        current_tile = end_tile\n",
        "        while current_tile:\n",
        "            self.path.insert(0, current_tile)\n",
        "            current_tile = current_tile.parent\n",
        "\n",
        "    def accept_neighbor(self, neighbor):\n",
        "      condition1 = not self.is_tile_in_closed_list(neighbor)\n",
        "      condition2 = self.is_tile_walkable(neighbor)\n",
        "      condition3 = neighbor not in self.open_list\n",
        "      return condition1 and condition2 and condition3"
      ]
    },
    {
      "cell_type": "code",
      "execution_count": null,
      "id": "1b049121c997f8ba",
      "metadata": {
        "ExecuteTime": {
          "end_time": "2024-02-16T12:59:52.439651Z",
          "start_time": "2024-02-16T12:59:52.427818Z"
        },
        "id": "1b049121c997f8ba"
      },
      "outputs": [],
      "source": [
        "class DFS(Algorithm):\n",
        "    def __init__(self, maze):\n",
        "        super().__init__(maze)\n",
        "\n",
        "    def solve(self):\n",
        "        start_tile = self.maze.start\n",
        "        end_tile = self.maze.end\n",
        "\n",
        "        self.open_list.append(start_tile)\n",
        "\n",
        "        while self.open_list:\n",
        "            current_tile = self.open_list.pop()\n",
        "\n",
        "            if current_tile == end_tile:\n",
        "                self.construct_path(current_tile)\n",
        "                return True\n",
        "\n",
        "            self.closed_list.append(current_tile)\n",
        "            neighbors = self.get_neighbors(current_tile)\n",
        "\n",
        "            for neighbor in neighbors:\n",
        "                if self.accept_neighbor(neighbor):\n",
        "                    neighbor.parent = current_tile\n",
        "                    self.open_list.append(neighbor)\n",
        "\n",
        "        return False"
      ]
    },
    {
      "cell_type": "code",
      "execution_count": null,
      "id": "9d5ac3045555ebb0",
      "metadata": {
        "ExecuteTime": {
          "end_time": "2024-02-16T12:59:52.457534Z",
          "start_time": "2024-02-16T12:59:52.443574Z"
        },
        "id": "9d5ac3045555ebb0"
      },
      "outputs": [],
      "source": [
        "class BFS(Algorithm):\n",
        "    def __init__(self, maze):\n",
        "        super().__init__(maze)\n",
        "\n",
        "    def solve(self):\n",
        "        start_tile = self.maze.start\n",
        "        end_tile = self.maze.end\n",
        "\n",
        "        self.open_list = deque([start_tile])\n",
        "\n",
        "        while self.open_list:\n",
        "            current_tile = self.open_list.popleft()\n",
        "\n",
        "            if current_tile == end_tile:\n",
        "                self.construct_path(current_tile)\n",
        "                return True\n",
        "\n",
        "            self.closed_list.append(current_tile)\n",
        "            neighbors = self.get_neighbors(current_tile)\n",
        "\n",
        "            for neighbor in neighbors:\n",
        "                if self.accept_neighbor(neighbor):\n",
        "                    neighbor.parent = current_tile\n",
        "                    self.open_list.append(neighbor)\n",
        "\n",
        "        return False\n"
      ]
    },
    {
      "cell_type": "code",
      "execution_count": null,
      "id": "33ccd936044bcb7d",
      "metadata": {
        "ExecuteTime": {
          "end_time": "2024-02-16T12:59:52.479311Z",
          "start_time": "2024-02-16T12:59:52.461964Z"
        },
        "id": "33ccd936044bcb7d"
      },
      "outputs": [],
      "source": [
        "class IDS(Algorithm):\n",
        "    def __init__(self, maze):\n",
        "        super().__init__(maze)\n",
        "\n",
        "    def solve(self):\n",
        "        start_tile = self.maze.start\n",
        "        end_tile = self.maze.end\n",
        "\n",
        "        max_depth = self.maze.height * self.maze.width\n",
        "\n",
        "        for depth_limit in range(1, max_depth + 1):\n",
        "            start_tile.g = 0\n",
        "\n",
        "            self.open_list = [start_tile]\n",
        "            self.closed_list = []\n",
        "\n",
        "            while self.open_list:\n",
        "                current_tile = self.open_list.pop()\n",
        "\n",
        "                if current_tile == end_tile:\n",
        "                    self.construct_path(current_tile)\n",
        "                    return True\n",
        "\n",
        "                self.closed_list.append(current_tile)\n",
        "\n",
        "                if current_tile.g >= depth_limit:\n",
        "                    continue\n",
        "\n",
        "                neighbors = self.get_neighbors(current_tile)\n",
        "\n",
        "                for neighbor in neighbors:\n",
        "                    if self.accept_neighbor(neighbor):\n",
        "                        neighbor.g = current_tile.g + 1\n",
        "                        neighbor.parent = current_tile\n",
        "                        self.open_list.append(neighbor)\n",
        "\n",
        "\n",
        "        return False"
      ]
    },
    {
      "cell_type": "code",
      "execution_count": null,
      "id": "619c4e9ee3c261df",
      "metadata": {
        "ExecuteTime": {
          "end_time": "2024-02-16T12:59:54.376084Z",
          "start_time": "2024-02-16T12:59:54.359821Z"
        },
        "id": "619c4e9ee3c261df"
      },
      "outputs": [],
      "source": [
        "class AStar(Algorithm):\n",
        "    def __init__(self, maze):\n",
        "        super().__init__(maze)\n",
        "\n",
        "    def get_tile_with_lowest_f(self):\n",
        "        lowest_f = self.open_list[0]\n",
        "\n",
        "        for tile in self.open_list:\n",
        "            if tile.f < lowest_f.f:\n",
        "                lowest_f = tile\n",
        "\n",
        "        return lowest_f\n",
        "\n",
        "    def get_h(self, tile):\n",
        "        manhattan_distance = abs(tile.x - self.maze.end.x) + abs(tile.y - self.maze.end.y)\n",
        "        return manhattan_distance\n",
        "\n",
        "    def get_f(self, tile):\n",
        "        return tile.g + tile.h\n",
        "\n",
        "    def solve(self):\n",
        "        start_tile = self.maze.start\n",
        "        end_tile = self.maze.end\n",
        "\n",
        "        self.open_list.append(start_tile)\n",
        "\n",
        "        while self.open_list:\n",
        "            current_tile = self.get_tile_with_lowest_f()\n",
        "\n",
        "            if current_tile == end_tile:\n",
        "                self.construct_path(current_tile)\n",
        "                return True\n",
        "\n",
        "            self.open_list.remove(current_tile)\n",
        "            self.closed_list.append(current_tile)\n",
        "\n",
        "            neighbors = self.get_neighbors(current_tile)\n",
        "\n",
        "            for neighbor in neighbors:\n",
        "                if not self.accept_neighbor(neighbor):\n",
        "                    continue\n",
        "\n",
        "                tentative_g = current_tile.g + 1\n",
        "\n",
        "                neighbor.parent = current_tile\n",
        "\n",
        "                neighbor.g = tentative_g\n",
        "                neighbor.h = self.get_h(neighbor)\n",
        "                neighbor.f = self.get_f(neighbor)\n",
        "\n",
        "                self.open_list.append(neighbor)\n",
        "\n",
        "        return False"
      ]
    },
    {
      "cell_type": "markdown",
      "id": "57bee2525f1b66ac",
      "metadata": {
        "collapsed": false,
        "id": "57bee2525f1b66ac"
      },
      "source": [
        "The following cell exports all needed data. You can simply run it and upload its output in the [visualizer site](https://project.amfakhimi.com/maze-visualizer)."
      ]
    },
    {
      "cell_type": "code",
      "execution_count": null,
      "id": "aac479f34cbc22f4",
      "metadata": {
        "ExecuteTime": {
          "end_time": "2024-02-16T12:59:56.460751Z",
          "start_time": "2024-02-16T12:59:56.454126Z"
        },
        "id": "aac479f34cbc22f4"
      },
      "outputs": [],
      "source": [
        "def export_all(maze, solver, merge_file_path):\n",
        "    map_csv = maze.export_map(None)\n",
        "    closed_list_csv = solver.export_closed_list(None)\n",
        "    path_csv = solver.export_path(None)\n",
        "\n",
        "    merge = pd.concat([closed_list_csv, path_csv, map_csv], axis=0)\n",
        "    merge.to_csv(merge_file_path, index=False, header=False)"
      ]
    },
    {
      "cell_type": "markdown",
      "id": "66be5e8428295b5b",
      "metadata": {
        "collapsed": false,
        "id": "66be5e8428295b5b"
      },
      "source": [
        "## Test (20 points)\n",
        "if you want to visualize the map, you can use `export_all` function and upload the output in the [visualizer site](https://project.amfakhimi.com/maze-visualizer).\n",
        "\n",
        "<br>\n",
        "<font size=5>\n",
        "After running below tests with seed 0 and (20, 20) as the maze's size, attach your outputs (4 outputs) to the final answer in Quera.\n",
        "<br>\n",
        "Your answers based on your implementations could be different from the expected answers, below. So, don't worry about the correctness of your answer. Just make sure that your code works correctly and you have attached the outputs."
      ]
    },
    {
      "cell_type": "code",
      "execution_count": null,
      "id": "57ee8ad3dc386556",
      "metadata": {
        "ExecuteTime": {
          "end_time": "2024-02-16T12:59:59.713853Z",
          "start_time": "2024-02-16T12:59:59.683229Z"
        },
        "id": "57ee8ad3dc386556",
        "outputId": "09d24a8b-9231-44ca-9bf2-e64966d3806c",
        "colab": {
          "base_uri": "https://localhost:8080/"
        }
      },
      "outputs": [
        {
          "output_type": "stream",
          "name": "stdout",
          "text": [
            "S0000000110000100010\n",
            "11000000100000000001\n",
            "00000000000001000000\n",
            "00000001010101000000\n",
            "00000000001000000001\n",
            "00001000001010010101\n",
            "00010000000000000000\n",
            "01001100101010001100\n",
            "00001110000000000010\n",
            "00000100000000100000\n",
            "00000000001100000000\n",
            "10100010010000000000\n",
            "01000000000010010001\n",
            "00001000000110101100\n",
            "10100001000001000011\n",
            "11000000000000000001\n",
            "00000000000000000000\n",
            "00000000001000000000\n",
            "10100100010000000010\n",
            "0101011100000010100E\n"
          ]
        }
      ],
      "source": [
        "random.seed(0)\n",
        "maze = Maze((20, 20), 'map')\n",
        "# maze = Maze('./Map.csv', 'map')\n",
        "\n",
        "maze.print_map()"
      ]
    },
    {
      "cell_type": "code",
      "execution_count": null,
      "id": "8c8a380ac801d411",
      "metadata": {
        "ExecuteTime": {
          "end_time": "2024-02-16T13:00:00.812315Z",
          "start_time": "2024-02-16T13:00:00.747203Z"
        },
        "id": "8c8a380ac801d411",
        "outputId": "a97b72af-2dd6-47f5-bb86-4658f2c86bd4",
        "colab": {
          "base_uri": "https://localhost:8080/"
        }
      },
      "outputs": [
        {
          "output_type": "stream",
          "name": "stdout",
          "text": [
            "[(0, 0), (1, 0), (2, 0), (3, 0), (4, 0), (5, 0), (6, 0), (7, 0), (7, 1), (7, 2), (6, 2), (5, 2), (4, 2), (3, 2), (2, 2), (1, 2), (0, 2), (0, 3), (0, 4), (1, 4), (2, 4), (3, 4), (4, 4), (5, 4), (6, 4), (7, 4), (8, 4), (9, 4), (9, 5), (9, 6), (8, 6), (7, 6), (7, 7), (7, 8), (8, 8), (9, 8), (10, 8), (11, 8), (12, 8), (13, 8), (14, 8), (15, 8), (16, 8), (17, 8), (17, 9), (18, 9), (19, 9), (19, 10), (19, 11), (18, 11), (17, 11), (16, 11), (15, 11), (14, 11), (13, 11), (12, 11), (11, 11), (10, 11), (10, 12), (9, 12), (8, 12), (7, 12), (6, 12), (5, 12), (4, 12), (3, 12), (3, 13), (3, 14), (4, 14), (5, 14), (6, 14), (6, 15), (7, 15), (8, 15), (9, 15), (10, 15), (11, 15), (12, 15), (13, 15), (14, 15), (15, 15), (16, 15), (17, 15), (18, 15), (18, 16), (19, 16), (19, 17), (19, 18), (19, 19)]\n",
            "SPPPPPPP110000100010\n",
            "1100000P100000000001\n",
            "PPPPPPPP000001000000\n",
            "P0000001010101000000\n",
            "PPPPPPPPPP1000000001\n",
            "000010000P1010010101\n",
            "0001000PPP0000000000\n",
            "0100110P101010001100\n",
            "0000111PPPPPPPPPPP10\n",
            "00000100000000100PPP\n",
            "0000000000110000000P\n",
            "1010001001PPPPPPPPPP\n",
            "010PPPPPPPP010010001\n",
            "000P1000000110101100\n",
            "101PPPP1000001000011\n",
            "110000PPPPPPPPPPPPP1\n",
            "000000000000000000PP\n",
            "0000000000100000000P\n",
            "1010010001000000001P\n",
            "0101011100000010100E\n"
          ]
        }
      ],
      "source": [
        "solver = DFS(maze)\n",
        "solver.solve()\n",
        "path = solver.path\n",
        "\n",
        "print(path)\n",
        "solver.print_path(path)\n",
        "export_all(maze, solver, 'dfs.csv')"
      ]
    },
    {
      "cell_type": "code",
      "execution_count": null,
      "id": "a635ede5e9942066",
      "metadata": {
        "ExecuteTime": {
          "end_time": "2024-02-16T13:00:03.419976Z",
          "start_time": "2024-02-16T13:00:03.319186Z"
        },
        "id": "a635ede5e9942066",
        "outputId": "bd531231-c898-423f-a447-c6144eb894ac",
        "colab": {
          "base_uri": "https://localhost:8080/"
        }
      },
      "outputs": [
        {
          "output_type": "stream",
          "name": "stdout",
          "text": [
            "[(0, 0), (1, 0), (2, 0), (2, 1), (2, 2), (2, 3), (2, 4), (2, 5), (2, 6), (2, 7), (2, 8), (2, 9), (2, 10), (3, 10), (3, 11), (3, 12), (3, 13), (3, 14), (3, 15), (3, 16), (4, 16), (5, 16), (6, 16), (7, 16), (8, 16), (9, 16), (10, 16), (11, 16), (11, 17), (11, 18), (12, 18), (13, 18), (14, 18), (15, 18), (16, 18), (17, 18), (17, 19), (18, 19), (19, 19)]\n",
            "SPP00000110000100010\n",
            "11P00000100000000001\n",
            "00P00000000001000000\n",
            "00P00001010101000000\n",
            "00P00000001000000001\n",
            "00P01000001010010101\n",
            "00P10000000000000000\n",
            "01P01100101010001100\n",
            "00P01110000000000010\n",
            "00P00100000000100000\n",
            "00PP0000001100000000\n",
            "101P0010010000000000\n",
            "010P0000000010010001\n",
            "000P1000000110101100\n",
            "101P0001000001000011\n",
            "110P0000000000000001\n",
            "000PPPPPPPPP00000000\n",
            "00000000001P00000000\n",
            "10100100010PPPPPPP10\n",
            "01010111000000101PPE\n"
          ]
        }
      ],
      "source": [
        "solver = BFS(maze)\n",
        "solver.solve()\n",
        "path = solver.path\n",
        "\n",
        "print(path)\n",
        "solver.print_path(path)\n",
        "export_all(maze, solver, 'bfs.csv')"
      ]
    },
    {
      "cell_type": "code",
      "execution_count": null,
      "id": "50476cbd01182c37",
      "metadata": {
        "ExecuteTime": {
          "end_time": "2024-02-16T13:00:06.739563Z",
          "start_time": "2024-02-16T13:00:04.953417Z"
        },
        "id": "50476cbd01182c37"
      },
      "outputs": [],
      "source": [
        "solver = IDS(maze)\n",
        "solver.solve()\n",
        "path = solver.path\n",
        "\n",
        "print(path)\n",
        "solver.print_path(path)\n",
        "export_all(maze, solver, 'ids.csv')"
      ]
    },
    {
      "cell_type": "code",
      "execution_count": null,
      "id": "318ff1a80012fc09",
      "metadata": {
        "ExecuteTime": {
          "end_time": "2024-02-16T13:00:10.425200Z",
          "start_time": "2024-02-16T13:00:10.357503Z"
        },
        "id": "318ff1a80012fc09",
        "outputId": "45633579-adc2-4c2f-88ee-d7ee7b771381",
        "colab": {
          "base_uri": "https://localhost:8080/"
        }
      },
      "outputs": [
        {
          "output_type": "stream",
          "name": "stdout",
          "text": [
            "[(0, 0), (1, 0), (2, 0), (2, 1), (2, 2), (2, 3), (2, 4), (2, 5), (2, 6), (2, 7), (2, 8), (2, 9), (2, 10), (3, 10), (3, 11), (3, 12), (3, 13), (3, 14), (3, 15), (3, 16), (4, 16), (5, 16), (6, 16), (7, 16), (8, 16), (9, 16), (10, 16), (11, 16), (11, 17), (11, 18), (12, 18), (13, 18), (14, 18), (15, 18), (16, 18), (17, 18), (17, 19), (18, 19), (19, 19)]\n",
            "SPP00000110000100010\n",
            "11P00000100000000001\n",
            "00P00000000001000000\n",
            "00P00001010101000000\n",
            "00P00000001000000001\n",
            "00P01000001010010101\n",
            "00P10000000000000000\n",
            "01P01100101010001100\n",
            "00P01110000000000010\n",
            "00P00100000000100000\n",
            "00PP0000001100000000\n",
            "101P0010010000000000\n",
            "010P0000000010010001\n",
            "000P1000000110101100\n",
            "101P0001000001000011\n",
            "110P0000000000000001\n",
            "000PPPPPPPPP00000000\n",
            "00000000001P00000000\n",
            "10100100010PPPPPPP10\n",
            "01010111000000101PPE\n"
          ]
        }
      ],
      "source": [
        "solver = AStar(maze)\n",
        "solver.solve()\n",
        "path = solver.path\n",
        "\n",
        "print(path)\n",
        "solver.print_path(path)\n",
        "export_all(maze, solver, 'a_star.csv')"
      ]
    }
  ],
  "metadata": {
    "kernelspec": {
      "display_name": "Python 3 (ipykernel)",
      "language": "python",
      "name": "python3"
    },
    "language_info": {
      "codemirror_mode": {
        "name": "ipython",
        "version": 3
      },
      "file_extension": ".py",
      "mimetype": "text/x-python",
      "name": "python",
      "nbconvert_exporter": "python",
      "pygments_lexer": "ipython3",
      "version": "3.8.18"
    },
    "colab": {
      "provenance": []
    }
  },
  "nbformat": 4,
  "nbformat_minor": 5
}